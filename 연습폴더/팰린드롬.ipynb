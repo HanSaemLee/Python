{
 "cells": [
  {
   "cell_type": "code",
   "execution_count": 1,
   "source": [
    "# 인공지능이 만든 팰린드롬\r\n",
    "def is_palindrome(x):\r\n",
    "    s = str(x)\r\n",
    "    return s == s[::-1]"
   ],
   "outputs": [],
   "metadata": {}
  },
  {
   "cell_type": "code",
   "execution_count": 6,
   "source": [
    "max_pal, m, n = 0, 0, 0\r\n",
    "for i in range(100, 1000):\r\n",
    "    for k in range(i, 1000):\r\n",
    "        if is_palindrome(i*k):\r\n",
    "            if i*k > max_pal:\r\n",
    "                max_pal = i*k\r\n",
    "                m = i\r\n",
    "                n = k\r\n",
    "\r\n",
    "print(f'{m} X {n} = {max_pal}')"
   ],
   "outputs": [
    {
     "output_type": "stream",
     "name": "stdout",
     "text": [
      "913 X 993 = 906609\n"
     ]
    }
   ],
   "metadata": {}
  },
  {
   "cell_type": "markdown",
   "source": [
    "-3자리수 정수 두개를 곱해서 나온 결과가 팰린드롬(Palindrome)이 되도록 할 때, 가장 큰 숫자는?"
   ],
   "metadata": {}
  },
  {
   "cell_type": "code",
   "execution_count": 39,
   "source": [
    "a = list(str(12322))\r\n",
    "b = list(reversed(a))\r\n",
    "c = int(''.join(a))\r\n",
    "a, b, a==b, c"
   ],
   "outputs": [
    {
     "output_type": "execute_result",
     "data": {
      "text/plain": [
       "(['1', '2', '3', '2', '2'], ['2', '2', '3', '2', '1'], False, 12322)"
      ]
     },
     "metadata": {},
     "execution_count": 39
    }
   ],
   "metadata": {}
  },
  {
   "cell_type": "code",
   "execution_count": 45,
   "source": [
    "# 내가만든 팰린드롬\r\n",
    "temp, q, r = 0, 0, 0\r\n",
    "for i in range(999, 99, -1):\r\n",
    "    for k in range(i, 99, -1): # i가 999일 떄 k가 10일 수도 있으므로, 높은 수부터 시작한다고 높은 값은 아니다. i가 500이고 k가 90이 더 크다\r\n",
    "        a = list(str(i*k))\r\n",
    "        b = list(reversed(a))\r\n",
    "        if a == b:\r\n",
    "            if int(''.join(a)) > temp:\r\n",
    "                q = i\r\n",
    "                r = k\r\n",
    "                temp = int(''.join(a))\r\n",
    "\r\n",
    "print(temp, q, r)\r\n",
    "\r\n",
    "        "
   ],
   "outputs": [
    {
     "output_type": "stream",
     "name": "stdout",
     "text": [
      "906609 993 913\n"
     ]
    }
   ],
   "metadata": {}
  },
  {
   "cell_type": "code",
   "execution_count": 46,
   "source": [
    "# 분석하기\r\n",
    "\r\n",
    "def is_palindrome(x):\r\n",
    "    s = str(x)\r\n",
    "    return s == s[::-1]"
   ],
   "outputs": [],
   "metadata": {}
  },
  {
   "cell_type": "code",
   "execution_count": 48,
   "source": [
    "s = str(12321)\r\n",
    "s\r\n"
   ],
   "outputs": [
    {
     "output_type": "execute_result",
     "data": {
      "text/plain": [
       "'1'"
      ]
     },
     "metadata": {},
     "execution_count": 48
    }
   ],
   "metadata": {}
  }
 ],
 "metadata": {
  "orig_nbformat": 4,
  "language_info": {
   "name": "python",
   "version": "3.8.10",
   "mimetype": "text/x-python",
   "codemirror_mode": {
    "name": "ipython",
    "version": 3
   },
   "pygments_lexer": "ipython3",
   "nbconvert_exporter": "python",
   "file_extension": ".py"
  },
  "kernelspec": {
   "name": "python3",
   "display_name": "Python 3.8.10 64-bit ('base': conda)"
  },
  "interpreter": {
   "hash": "3afaf00aff83f2e8eb9647e300ff648c4cd120434f7e4c9b48fc973ba4a47465"
  }
 },
 "nbformat": 4,
 "nbformat_minor": 2
}