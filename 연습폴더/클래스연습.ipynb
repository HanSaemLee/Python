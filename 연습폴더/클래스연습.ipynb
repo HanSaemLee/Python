{
 "cells": [
  {
   "cell_type": "code",
   "execution_count": 3,
   "source": [
    "result = 0\r\n",
    "def add(num):\r\n",
    "    global result\r\n",
    "    result += num\r\n",
    "    return result\r\n",
    "\r\n",
    "print(add(3))\r\n",
    "print(add(7))\r\n"
   ],
   "outputs": [
    {
     "output_type": "stream",
     "name": "stdout",
     "text": [
      "3\n",
      "10\n"
     ]
    }
   ],
   "metadata": {}
  },
  {
   "cell_type": "code",
   "execution_count": 5,
   "source": [
    "result1 = 0\r\n",
    "result2 = 0\r\n",
    "\r\n",
    "def add1(num):\r\n",
    "    global result1\r\n",
    "    result1 += num\r\n",
    "    return result1\r\n",
    "\r\n",
    "def add2(num):\r\n",
    "    global result2\r\n",
    "    result2 += num\r\n",
    "    return result2\r\n",
    "\r\n",
    "print(add1(3))\r\n",
    "print(add1(4))\r\n",
    "print(add2(3))\r\n",
    "print(add2(7))\r\n"
   ],
   "outputs": [
    {
     "output_type": "stream",
     "name": "stdout",
     "text": [
      "3\n",
      "7\n",
      "3\n",
      "10\n"
     ]
    }
   ],
   "metadata": {}
  },
  {
   "cell_type": "code",
   "execution_count": 8,
   "source": [
    "class Calculator:\r\n",
    "    def __init__(self):\r\n",
    "        self.result = 0\r\n",
    "\r\n",
    "    def add(self, num):\r\n",
    "        self.result += num\r\n",
    "        return self.result\r\n",
    "    \r\n",
    "    def sub(self, num):\r\n",
    "        self.result -= num\r\n",
    "        return self.result\r\n",
    "    \r\n",
    "cal1 = Calculator()\r\n",
    "cal2 = Calculator()\r\n",
    "\r\n",
    "print(cal1.add(3))\r\n",
    "print(cal1.add(4))\r\n",
    "print(cal2.add(3))\r\n",
    "print(cal2.add(7))"
   ],
   "outputs": [
    {
     "output_type": "stream",
     "name": "stdout",
     "text": [
      "3\n",
      "7\n",
      "3\n",
      "10\n"
     ]
    }
   ],
   "metadata": {}
  },
  {
   "cell_type": "code",
   "execution_count": 21,
   "source": [
    "class FourCal:\r\n",
    "    def setdata(self, first, second):\r\n",
    "        self.first = first\r\n",
    "        self.second = second\r\n",
    "    \r\n",
    "    def add(self):\r\n",
    "        result = self.first + self.second\r\n",
    "        return result\r\n",
    "        "
   ],
   "outputs": [],
   "metadata": {}
  },
  {
   "cell_type": "code",
   "execution_count": 12,
   "source": [
    "a = FourCal()\r\n",
    "a.setdata(4, 2)\r\n",
    "print(a.first)\r\n",
    "print(a.second)"
   ],
   "outputs": [
    {
     "output_type": "stream",
     "name": "stdout",
     "text": [
      "4\n",
      "2\n"
     ]
    }
   ],
   "metadata": {}
  },
  {
   "cell_type": "code",
   "execution_count": 15,
   "source": [
    "a = FourCal()\r\n",
    "b = FourCal()\r\n",
    "a.setdata(4, 2)\r\n",
    "print(a.first)\r\n",
    "b.setdata(3, 7)\r\n",
    "print(b.first)"
   ],
   "outputs": [
    {
     "output_type": "stream",
     "name": "stdout",
     "text": [
      "4\n",
      "3\n"
     ]
    }
   ],
   "metadata": {}
  },
  {
   "cell_type": "code",
   "execution_count": 18,
   "source": [
    "id(a.first), id(b.first)"
   ],
   "outputs": [
    {
     "output_type": "execute_result",
     "data": {
      "text/plain": [
       "(140723466414064, 140723466414032)"
      ]
     },
     "metadata": {},
     "execution_count": 18
    }
   ],
   "metadata": {}
  },
  {
   "cell_type": "code",
   "execution_count": 23,
   "source": [
    "a = FourCal()\r\n",
    "a.setdata(4, 2)\r\n",
    "print(a.first, a.second)\r\n",
    "print(a.add())"
   ],
   "outputs": [
    {
     "output_type": "stream",
     "name": "stdout",
     "text": [
      "4 2\n",
      "6\n"
     ]
    }
   ],
   "metadata": {}
  },
  {
   "cell_type": "code",
   "execution_count": 1,
   "source": [
    "class FourCal:\r\n",
    "    def setdata(self, first, second):\r\n",
    "        self.first = first\r\n",
    "        self.second = second\r\n",
    "    def add(self):\r\n",
    "        return self.first + self.second\r\n",
    "    def mul(self):\r\n",
    "        return self.first * self.second\r\n",
    "    def sub(self):\r\n",
    "        return self.first - self.second\r\n",
    "    def div(self):\r\n",
    "        return self.first / self.second\r\n",
    "        "
   ],
   "outputs": [],
   "metadata": {}
  },
  {
   "cell_type": "markdown",
   "source": [
    "## Account 클래스 만들기\r\n",
    "### 속성\r\n",
    "- ano:문자열 6글자, '123456'\r\n",
    "- owner:문자열\r\n",
    "- balance:잔액, 비공개 속성\r\n",
    "### Method\r\n",
    "- 생성자\r\n",
    "- deposit입금(amount)잔액이 1000만원이상이면 입금할 수 없음\r\n",
    "- withdraw인출(amount)잔액이 0원 미만이면 출금할 수 없음\r\n",
    "- 출력가능하게"
   ],
   "metadata": {}
  },
  {
   "cell_type": "code",
   "execution_count": 47,
   "source": [
    "class Account:\r\n",
    "    def __init__(self, ano, owner, balance): # __init__을 쓰면 객체를 만들 때 인수를 전달해야한다\r\n",
    "        self.ano = ano\r\n",
    "        self.owner = owner\r\n",
    "        self.balance = balance\r\n",
    "\r\n",
    "    def deposit(self, amount):\r\n",
    "        if self.balance >= 10000000:\r\n",
    "            print('입금할 수 없습니다.')\r\n",
    "            return\r\n",
    "        self.balance += amount\r\n",
    "    \r\n",
    "    def withdraw(self, amount):\r\n",
    "        if self.balance < 0:\r\n",
    "            print('출금할 수 없습니다')\r\n",
    "            return\r\n",
    "        self.balance -= amount\r\n",
    "\r\n",
    "    def __str__(self):\r\n",
    "        return f'계좌번호:{self.ano}, 이름: {self.owner}, 현금: {self.balance}'\r\n",
    "\r\n",
    "\r\n",
    "\r\n"
   ],
   "outputs": [],
   "metadata": {}
  },
  {
   "cell_type": "code",
   "execution_count": 50,
   "source": [
    "jennie.deposit(50000)\r\n",
    "print(jennie.balance)"
   ],
   "outputs": [
    {
     "output_type": "stream",
     "name": "stdout",
     "text": [
      "2400000\n"
     ]
    }
   ],
   "metadata": {}
  },
  {
   "cell_type": "code",
   "execution_count": 49,
   "source": [
    "jennie.withdraw(150000)\r\n",
    "print(jennie.balance)"
   ],
   "outputs": [
    {
     "output_type": "stream",
     "name": "stdout",
     "text": [
      "2350000\n"
     ]
    }
   ],
   "metadata": {}
  },
  {
   "cell_type": "code",
   "execution_count": 48,
   "source": [
    "jennie = Account('12345', '두두리', 2500000)\r\n",
    "jennie.ano, jennie.owner, jennie.balance"
   ],
   "outputs": [
    {
     "output_type": "execute_result",
     "data": {
      "text/plain": [
       "('12345', '두두리', 2500000)"
      ]
     },
     "metadata": {},
     "execution_count": 48
    }
   ],
   "metadata": {}
  },
  {
   "cell_type": "code",
   "execution_count": 51,
   "source": [
    "acc_list= [jennie]\r\n",
    "print(acc_list[0])"
   ],
   "outputs": [
    {
     "output_type": "stream",
     "name": "stdout",
     "text": [
      "계좌번호:12345, 이름: 두두리, 현금: 2400000\n"
     ]
    }
   ],
   "metadata": {}
  }
 ],
 "metadata": {
  "orig_nbformat": 4,
  "language_info": {
   "name": "python",
   "version": "3.8.10",
   "mimetype": "text/x-python",
   "codemirror_mode": {
    "name": "ipython",
    "version": 3
   },
   "pygments_lexer": "ipython3",
   "nbconvert_exporter": "python",
   "file_extension": ".py"
  },
  "kernelspec": {
   "name": "python3",
   "display_name": "Python 3.8.10 64-bit ('base': conda)"
  },
  "interpreter": {
   "hash": "3afaf00aff83f2e8eb9647e300ff648c4cd120434f7e4c9b48fc973ba4a47465"
  }
 },
 "nbformat": 4,
 "nbformat_minor": 2
}