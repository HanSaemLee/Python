{
 "cells": [
  {
   "cell_type": "code",
   "execution_count": 3,
   "source": [
    "result = 0\r\n",
    "def add(num):\r\n",
    "    global result\r\n",
    "    result += num\r\n",
    "    return result\r\n",
    "\r\n",
    "print(add(3))\r\n",
    "print(add(7))\r\n"
   ],
   "outputs": [
    {
     "output_type": "stream",
     "name": "stdout",
     "text": [
      "3\n",
      "10\n"
     ]
    }
   ],
   "metadata": {}
  },
  {
   "cell_type": "code",
   "execution_count": 5,
   "source": [
    "result1 = 0\r\n",
    "result2 = 0\r\n",
    "\r\n",
    "def add1(num):\r\n",
    "    global result1\r\n",
    "    result1 += num\r\n",
    "    return result1\r\n",
    "\r\n",
    "def add2(num):\r\n",
    "    global result2\r\n",
    "    result2 += num\r\n",
    "    return result2\r\n",
    "\r\n",
    "print(add1(3))\r\n",
    "print(add1(4))\r\n",
    "print(add2(3))\r\n",
    "print(add2(7))\r\n"
   ],
   "outputs": [
    {
     "output_type": "stream",
     "name": "stdout",
     "text": [
      "3\n",
      "7\n",
      "3\n",
      "10\n"
     ]
    }
   ],
   "metadata": {}
  },
  {
   "cell_type": "code",
   "execution_count": 8,
   "source": [
    "class Calculator:\r\n",
    "    def __init__(self):\r\n",
    "        self.result = 0\r\n",
    "\r\n",
    "    def add(self, num):\r\n",
    "        self.result += num\r\n",
    "        return self.result\r\n",
    "    \r\n",
    "    def sub(self, num):\r\n",
    "        self.result -= num\r\n",
    "        return self.result\r\n",
    "    \r\n",
    "cal1 = Calculator()\r\n",
    "cal2 = Calculator()\r\n",
    "\r\n",
    "print(cal1.add(3))\r\n",
    "print(cal1.add(4))\r\n",
    "print(cal2.add(3))\r\n",
    "print(cal2.add(7))"
   ],
   "outputs": [
    {
     "output_type": "stream",
     "name": "stdout",
     "text": [
      "3\n",
      "7\n",
      "3\n",
      "10\n"
     ]
    }
   ],
   "metadata": {}
  },
  {
   "cell_type": "code",
   "execution_count": 21,
   "source": [
    "class FourCal:\r\n",
    "    def setdata(self, first, second):\r\n",
    "        self.first = first\r\n",
    "        self.second = second\r\n",
    "    \r\n",
    "    def add(self):\r\n",
    "        result = self.first + self.second\r\n",
    "        return result\r\n",
    "        "
   ],
   "outputs": [],
   "metadata": {}
  },
  {
   "cell_type": "code",
   "execution_count": 12,
   "source": [
    "a = FourCal()\r\n",
    "a.setdata(4, 2)\r\n",
    "print(a.first)\r\n",
    "print(a.second)"
   ],
   "outputs": [
    {
     "output_type": "stream",
     "name": "stdout",
     "text": [
      "4\n",
      "2\n"
     ]
    }
   ],
   "metadata": {}
  },
  {
   "cell_type": "code",
   "execution_count": 15,
   "source": [
    "a = FourCal()\r\n",
    "b = FourCal()\r\n",
    "a.setdata(4, 2)\r\n",
    "print(a.first)\r\n",
    "b.setdata(3, 7)\r\n",
    "print(b.first)"
   ],
   "outputs": [
    {
     "output_type": "stream",
     "name": "stdout",
     "text": [
      "4\n",
      "3\n"
     ]
    }
   ],
   "metadata": {}
  },
  {
   "cell_type": "code",
   "execution_count": 18,
   "source": [
    "id(a.first), id(b.first)"
   ],
   "outputs": [
    {
     "output_type": "execute_result",
     "data": {
      "text/plain": [
       "(140723466414064, 140723466414032)"
      ]
     },
     "metadata": {},
     "execution_count": 18
    }
   ],
   "metadata": {}
  },
  {
   "cell_type": "code",
   "execution_count": 23,
   "source": [
    "a = FourCal()\r\n",
    "a.setdata(4, 2)\r\n",
    "print(a.first, a.second)\r\n",
    "print(a.add())"
   ],
   "outputs": [
    {
     "output_type": "stream",
     "name": "stdout",
     "text": [
      "4 2\n",
      "6\n"
     ]
    }
   ],
   "metadata": {}
  },
  {
   "cell_type": "code",
   "execution_count": null,
   "source": [
    "class FourCal:\r\n",
    "    def setdata(self, first, second):\r\n",
    "        self.first = first\r\n",
    "        self.second = second\r\n",
    "    def add(self):\r\n",
    "        return self.first + self.second\r\n",
    "    def mul(self):\r\n",
    "        return self.first * self.second\r\n",
    "    def sub(self):\r\n",
    "        return self.first - self.second\r\n",
    "    def div(self):\r\n",
    "        return self.first / self.second\r\n",
    "        "
   ],
   "outputs": [],
   "metadata": {}
  }
 ],
 "metadata": {
  "orig_nbformat": 4,
  "language_info": {
   "name": "python",
   "version": "3.8.10",
   "mimetype": "text/x-python",
   "codemirror_mode": {
    "name": "ipython",
    "version": 3
   },
   "pygments_lexer": "ipython3",
   "nbconvert_exporter": "python",
   "file_extension": ".py"
  },
  "kernelspec": {
   "name": "python3",
   "display_name": "Python 3.8.10 64-bit ('base': conda)"
  },
  "interpreter": {
   "hash": "82242071bcd67681623d4768b29a123ed7dfa92e191a8e325cc56bd5a26f1387"
  }
 },
 "nbformat": 4,
 "nbformat_minor": 2
}