{
 "cells": [
  {
   "cell_type": "code",
   "execution_count": 18,
   "source": [
    "cnt = 1\r\n",
    "for i in range(4, 0, -1):\r\n",
    "    print(' '*(i-1), '*'*cnt, sep='') #sep=''을하면 좌측 빈칸이 사라진다\r\n",
    "    cnt += 1"
   ],
   "outputs": [
    {
     "output_type": "stream",
     "name": "stdout",
     "text": [
      "   *\n",
      "  **\n",
      " ***\n",
      "****\n"
     ]
    }
   ],
   "metadata": {}
  },
  {
   "cell_type": "code",
   "execution_count": 20,
   "source": [
    "for i in range(4, 0, -1): # 4 ~ 1까지\r\n",
    "    print(' '*(i-1), '*'*(5-i), sep='')\r\n"
   ],
   "outputs": [
    {
     "output_type": "stream",
     "name": "stdout",
     "text": [
      "    *\n",
      "   **\n",
      "  ***\n",
      " ****\n"
     ]
    }
   ],
   "metadata": {}
  },
  {
   "cell_type": "markdown",
   "source": [
    "### sep = ''을 쓰고 안 쓰고 차이"
   ],
   "metadata": {}
  },
  {
   "cell_type": "code",
   "execution_count": 21,
   "source": [
    "for i in range(4, 0, -1):\r\n",
    "    print(' '*(i-1), '*'*(5-i),'*'*(4-i)) # 빈 칸이 존재"
   ],
   "outputs": [
    {
     "output_type": "stream",
     "name": "stdout",
     "text": [
      "    * \n",
      "   ** *\n",
      "  *** **\n",
      " **** ***\n"
     ]
    }
   ],
   "metadata": {}
  },
  {
   "cell_type": "code",
   "execution_count": 19,
   "source": [
    "for i in range(4, 0, -1):\r\n",
    "    print(' '*(i-1), '*'*(5-i),'*'*(4-i), sep='') # 빈 칸 없음"
   ],
   "outputs": [
    {
     "output_type": "stream",
     "name": "stdout",
     "text": [
      "   *\n",
      "  ***\n",
      " *****\n",
      "*******\n"
     ]
    }
   ],
   "metadata": {}
  },
  {
   "cell_type": "code",
   "execution_count": 25,
   "source": [
    "cnt = 3\r\n",
    "for i in range(4, 0, -1):\r\n",
    "    print(' '*(i-1), '*'*(i-cnt), sep='')\r\n",
    "    cnt -= 3"
   ],
   "outputs": [
    {
     "output_type": "stream",
     "name": "stdout",
     "text": [
      "   *\n",
      "  ***\n",
      " *****\n",
      "*******\n"
     ]
    }
   ],
   "metadata": {}
  },
  {
   "cell_type": "code",
   "execution_count": 29,
   "source": [
    "cnt = 3\r\n",
    "for i in range(4, 0, -1):\r\n",
    "    print(' '*(i-1), '*'*(i-cnt), sep='')\r\n",
    "    cnt -= 3\r\n",
    "cnt1 = 0\r\n",
    "for i in range(3):\r\n",
    "    print(' '*(i+1), '*'*(5-cnt1), sep='')\r\n",
    "    cnt1 += 2\r\n"
   ],
   "outputs": [
    {
     "output_type": "stream",
     "name": "stdout",
     "text": [
      "   *\n",
      "  ***\n",
      " *****\n",
      "*******\n",
      " *****\n",
      "  ***\n",
      "   *\n"
     ]
    }
   ],
   "metadata": {}
  }
 ],
 "metadata": {
  "orig_nbformat": 4,
  "language_info": {
   "name": "python",
   "version": "3.8.10",
   "mimetype": "text/x-python",
   "codemirror_mode": {
    "name": "ipython",
    "version": 3
   },
   "pygments_lexer": "ipython3",
   "nbconvert_exporter": "python",
   "file_extension": ".py"
  },
  "kernelspec": {
   "name": "python3",
   "display_name": "Python 3.8.10 64-bit ('base': conda)"
  },
  "interpreter": {
   "hash": "3afaf00aff83f2e8eb9647e300ff648c4cd120434f7e4c9b48fc973ba4a47465"
  }
 },
 "nbformat": 4,
 "nbformat_minor": 2
}