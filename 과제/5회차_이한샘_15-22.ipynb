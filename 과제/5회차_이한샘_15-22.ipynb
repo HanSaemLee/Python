{
  "nbformat": 4,
  "nbformat_minor": 2,
  "metadata": {
    "colab": {
      "name": "5회차_이한샘_15-22",
      "provenance": [],
      "collapsed_sections": []
    },
    "kernelspec": {
      "name": "python3",
      "display_name": "Python 3.8.10 64-bit ('base': conda)"
    },
    "language_info": {
      "name": "python",
      "version": "3.8.10",
      "mimetype": "text/x-python",
      "codemirror_mode": {
        "name": "ipython",
        "version": 3
      },
      "pygments_lexer": "ipython3",
      "nbconvert_exporter": "python",
      "file_extension": ".py"
    },
    "interpreter": {
      "hash": "3afaf00aff83f2e8eb9647e300ff648c4cd120434f7e4c9b48fc973ba4a47465"
    }
  },
  "cells": [
    {
      "cell_type": "markdown",
      "source": [
        "### Unit 15"
      ],
      "metadata": {
        "id": "iG5M2XGPY8fE"
      }
    },
    {
      "cell_type": "code",
      "execution_count": null,
      "source": [
        "age = int(input())\r\n",
        "balance = 9000\r\n",
        "if 7 <= age <= 12:\r\n",
        "    balance -= 650\r\n",
        "elif 13 <= age <= 18:\r\n",
        "    balance -= 1050\r\n",
        "elif 19 <= age:\r\n",
        "    balance -= 1250\r\n",
        "print(balance)\r\n"
      ],
      "outputs": [
        {
          "output_type": "stream",
          "name": "stdout",
          "text": [
            "10\n",
            "8350\n"
          ]
        }
      ],
      "metadata": {
        "colab": {
          "base_uri": "https://localhost:8080/"
        },
        "id": "oCcY6NBjZCTE",
        "outputId": "4f106be1-3889-4a53-a8b7-13d0b9bee65a"
      }
    },
    {
      "cell_type": "markdown",
      "source": [
        "### Unit 16"
      ],
      "metadata": {
        "id": "yQO5amzNbBF1"
      }
    },
    {
      "cell_type": "code",
      "execution_count": null,
      "source": [
        "number = int(input())\r\n",
        "for i in range(1, 10):\r\n",
        "    #print(\"%d * %d = %d\" %(number, i, number*i))\r\n",
        "    #print(f'{number} * {i} = {number * i}')\r\n",
        "    print(number, '*', i, '=', number*i)"
      ],
      "outputs": [],
      "metadata": {
        "id": "nbpDVu6nbALm"
      }
    },
    {
      "cell_type": "markdown",
      "source": [
        "### Unit 17"
      ],
      "metadata": {
        "id": "xuUpPGSKdEPs"
      }
    },
    {
      "cell_type": "code",
      "execution_count": 3,
      "source": [
        "money = int(input())\r\n",
        "for _ in range(money//1350):\r\n",
        "    money -= 1350\r\n",
        "    print(money)"
      ],
      "outputs": [
        {
          "output_type": "error",
          "ename": "ValueError",
          "evalue": "invalid literal for int() with base 10: ''",
          "traceback": [
            "\u001b[1;31m---------------------------------------------------------------------------\u001b[0m",
            "\u001b[1;31mValueError\u001b[0m                                Traceback (most recent call last)",
            "\u001b[1;32m<ipython-input-3-a635ed924504>\u001b[0m in \u001b[0;36m<module>\u001b[1;34m\u001b[0m\n\u001b[1;32m----> 1\u001b[1;33m \u001b[0mmoney\u001b[0m \u001b[1;33m=\u001b[0m \u001b[0mint\u001b[0m\u001b[1;33m(\u001b[0m\u001b[0minput\u001b[0m\u001b[1;33m(\u001b[0m\u001b[1;33m)\u001b[0m\u001b[1;33m)\u001b[0m\u001b[1;33m\u001b[0m\u001b[1;33m\u001b[0m\u001b[0m\n\u001b[0m\u001b[0;32m      2\u001b[0m \u001b[1;32mfor\u001b[0m \u001b[0m_\u001b[0m \u001b[1;32min\u001b[0m \u001b[0mrange\u001b[0m\u001b[1;33m(\u001b[0m\u001b[0mmoney\u001b[0m\u001b[1;33m//\u001b[0m\u001b[1;36m1350\u001b[0m\u001b[1;33m)\u001b[0m\u001b[1;33m:\u001b[0m\u001b[1;33m\u001b[0m\u001b[1;33m\u001b[0m\u001b[0m\n\u001b[0;32m      3\u001b[0m     \u001b[0mmoney\u001b[0m \u001b[1;33m-=\u001b[0m \u001b[1;36m1350\u001b[0m\u001b[1;33m\u001b[0m\u001b[1;33m\u001b[0m\u001b[0m\n\u001b[0;32m      4\u001b[0m     \u001b[0mprint\u001b[0m\u001b[1;33m(\u001b[0m\u001b[0mmoney\u001b[0m\u001b[1;33m)\u001b[0m\u001b[1;33m\u001b[0m\u001b[1;33m\u001b[0m\u001b[0m\n",
            "\u001b[1;31mValueError\u001b[0m: invalid literal for int() with base 10: ''"
          ]
        }
      ],
      "metadata": {
        "colab": {
          "base_uri": "https://localhost:8080/"
        },
        "id": "-QWf4CfXdGZ2",
        "outputId": "d337bc7f-55eb-4cca-e530-17b777146172"
      }
    },
    {
      "cell_type": "markdown",
      "source": [
        "### Unit 18"
      ],
      "metadata": {
        "id": "zCglQK5WeFsD"
      }
    },
    {
      "cell_type": "code",
      "execution_count": 4,
      "source": [
        "start, stop = map(int, input().split())\r\n",
        "i = start\r\n",
        "while True:\r\n",
        "    k = i\r\n",
        "    if k//10 != 0:\r\n",
        "      k %= 10\r\n",
        "      if k == 3:\r\n",
        "        i += 1\r\n",
        "        continue\r\n",
        "    if i == 3:\r\n",
        "      i += 1\r\n",
        "      continue\r\n",
        "    if i > stop:\r\n",
        "      break\r\n",
        "    print(i, end=' ')\r\n",
        "    i += 1"
      ],
      "outputs": [
        {
          "output_type": "stream",
          "name": "stdout",
          "text": [
            "1 2 4 5 6 7 8 9 10 11 12 14 15 16 17 18 19 20 "
          ]
        }
      ],
      "metadata": {
        "colab": {
          "base_uri": "https://localhost:8080/"
        },
        "id": "0ZuqKr0IeI_p",
        "outputId": "f95d6f69-dcf1-431e-f8aa-b2ad00c8948e"
      }
    },
    {
      "cell_type": "markdown",
      "source": [
        "### Unit 19"
      ],
      "metadata": {
        "id": "mcR-0O1oNmBz"
      }
    },
    {
      "cell_type": "code",
      "execution_count": 2,
      "source": [
        "number = int(input())\r\n",
        "cnt = 1\r\n",
        "for i in range(number-1, -1, -1):\r\n",
        "    print(' '*(((2*i+1)-1)//2), '*'*cnt, ' '*(((2*i+1)-1)//2), sep='')\r\n",
        "    cnt += 2"
      ],
      "outputs": [
        {
          "output_type": "stream",
          "name": "stdout",
          "text": [
            "    *    \n",
            "   ***   \n",
            "  *****  \n",
            " ******* \n",
            "*********\n"
          ]
        }
      ],
      "metadata": {
        "colab": {
          "base_uri": "https://localhost:8080/"
        },
        "id": "g4h-JTq2NntV",
        "outputId": "18a9f8c7-373c-4017-b1bb-061ca0caf24b"
      }
    },
    {
      "cell_type": "markdown",
      "source": [
        "### Unit 20"
      ],
      "metadata": {
        "id": "D8qzBRl4WX24"
      }
    },
    {
      "cell_type": "code",
      "execution_count": 31,
      "source": [
        "a, b = map(int, input().split())\r\n",
        "for i in range(a, b+1):\r\n",
        "    print('Fizz'*(i%5==0) + 'Buzz'*(i%7==0) or i)"
      ],
      "outputs": [
        {
          "output_type": "stream",
          "name": "stdout",
          "text": [
            "35 40\n",
            "FizzBuzz\n",
            "36\n",
            "37\n",
            "38\n",
            "39\n",
            "Fizz\n"
          ]
        }
      ],
      "metadata": {
        "colab": {
          "base_uri": "https://localhost:8080/"
        },
        "id": "qMowHqbvTvGp",
        "outputId": "51da6d20-b673-4717-ffa9-4faa32af106e"
      }
    },
    {
      "cell_type": "markdown",
      "source": [
        "### Unit 22"
      ],
      "metadata": {
        "id": "hVQbenDGWtMA"
      }
    },
    {
      "cell_type": "code",
      "execution_count": 41,
      "source": [
        "a, b = map(int, input().split())\r\n",
        "n_list = []\r\n",
        "for i in range(a, b+1):\r\n",
        "    n_list.append(2**i)\r\n",
        "del n_list[1], n_list[-2]\r\n",
        "print(n_list)"
      ],
      "outputs": [
        {
          "output_type": "stream",
          "name": "stdout",
          "text": [
            "1 5\n",
            "[2, 8, 32]\n"
          ]
        }
      ],
      "metadata": {
        "colab": {
          "base_uri": "https://localhost:8080/"
        },
        "id": "z7puGxufU7qp",
        "outputId": "75a87e34-a302-423f-cc56-0bb4640e130c"
      }
    },
    {
      "cell_type": "code",
      "execution_count": 47,
      "source": [
        "a, b = map(int, input().split())\r\n",
        "n_list = []\r\n",
        "[n_list.append(2**i) for i in range(a, b+1)]\r\n",
        "del n_list[1], n_list[-2]\r\n",
        "print(n_list)\r\n"
      ],
      "outputs": [
        {
          "output_type": "stream",
          "name": "stdout",
          "text": [
            "10 20\n",
            "[1024, 4096, 8192, 16384, 32768, 65536, 131072, 262144, 1048576]\n"
          ]
        }
      ],
      "metadata": {
        "colab": {
          "base_uri": "https://localhost:8080/"
        },
        "id": "0Csr2ZmWX1Eu",
        "outputId": "2ce2461e-edbc-4981-b2c9-3a692299ad8f"
      }
    },
    {
      "cell_type": "code",
      "execution_count": 67,
      "source": [
        "# 본인의 생일을 1998 12 15와 같이 연월일로 입력받아 오늘 날짜의 만나이를 구하는 프로그램을 작성하시오\r\n",
        "y, m, d = map(int, input().split())\r\n",
        "y_dif = 2020 - y\r\n",
        "if m == 7:\r\n",
        "    if d >= 30 : # 생일 지남\r\n",
        "      print(y_dif+1)\r\n",
        "    else: # d < 30 생일 안 지남\r\n",
        "      print(y_dif)\r\n",
        "elif m > 7:\r\n",
        "    print(y_dif+1)\r\n",
        "else: # m < 7:\r\n",
        "    print(y_diff)"
      ],
      "outputs": [
        {
          "output_type": "stream",
          "name": "stdout",
          "text": [
            "1987 7 30\n",
            "34\n"
          ]
        }
      ],
      "metadata": {
        "colab": {
          "base_uri": "https://localhost:8080/"
        },
        "id": "62PE1sPReqDk",
        "outputId": "e3ef02c4-d4a8-4311-c94d-031567db3aad"
      }
    },
    {
      "cell_type": "code",
      "execution_count": 9,
      "source": [
        "from datetime import date\r\n",
        "today = date.today()\r\n",
        "\r\n",
        "year, month, day = map(int, input('생일입력').split())\r\n",
        "\r\n",
        "if month > today.month:\r\n",
        "    age = today.year - year - 1\r\n",
        "elif month < today.month:\r\n",
        "    age = today.year - year\r\n",
        "else:\r\n",
        "    if day> today.day:\r\n",
        "        age = today.year - year - 1\r\n",
        "    else:\r\n",
        "        age = today.year - year\r\n",
        "print(f'만 나이는 {age}입니다.')"
      ],
      "outputs": [
        {
          "output_type": "stream",
          "name": "stdout",
          "text": [
            "만 나이는 33입니다.\n"
          ]
        }
      ],
      "metadata": {}
    },
    {
      "cell_type": "code",
      "execution_count": 17,
      "source": [
        "# 디지털 시계에 하룻동안 (00:00~23:59) 3이 표시되는 시간을 초로 환산하면 총 몇 초일까요? 디지털 시계는 하룻동안 다음과 같이 시:분(00:00~23:59)으로 표시됨\r\n",
        "sum = 0\r\n",
        "for i in range(1, 25):\r\n",
        "      if i%10 == 3:\r\n",
        "            sum += 3600\r\n",
        "            continue\r\n",
        "      for k in range(1, 60):\r\n",
        "            if k%10 == 3:\r\n",
        "              sum += 60\r\n",
        "print(sum)\r\n"
      ],
      "outputs": [
        {
          "output_type": "stream",
          "name": "stdout",
          "text": [
            "18360\n"
          ]
        }
      ],
      "metadata": {
        "colab": {
          "base_uri": "https://localhost:8080/"
        },
        "id": "CjtrPF4_isgm",
        "outputId": "303be0e9-2777-417d-9c4c-5a679f58e28a"
      }
    },
    {
      "cell_type": "code",
      "execution_count": 12,
      "source": [
        "total_seconds = 0\r\n",
        "for hour in range(24):\r\n",
        "    for min in range(60):\r\n",
        "        time = f'{hour:02d}:{min:02d}'\r\n",
        "        if '3' in time:\r\n",
        "            total_seconds += 60\r\n",
        "print(total_seconds)"
      ],
      "outputs": [
        {
          "output_type": "stream",
          "name": "stdout",
          "text": [
            "29700\n"
          ]
        }
      ],
      "metadata": {}
    },
    {
      "cell_type": "code",
      "execution_count": 50,
      "source": [
        "# a+b+c = 1000 a < b < c\r\n",
        "# a*a + b*b = c*c\r\n",
        "for a in range(1, 1000):\r\n",
        "  for b in range(a+1, 1000):\r\n",
        "    for c in range(b+1, 1000):\r\n",
        "      if a + b + c > 1000:\r\n",
        "        break\r\n",
        "      else:\r\n",
        "        if a*a + b*b == c*c and a + b + c == 1000:\r\n",
        "          print(a, b, c)\r\n",
        "      "
      ],
      "outputs": [
        {
          "output_type": "stream",
          "name": "stdout",
          "text": [
            "200 375 425\n"
          ]
        }
      ],
      "metadata": {
        "colab": {
          "base_uri": "https://localhost:8080/"
        },
        "id": "KOIl7RRmfPlx",
        "outputId": "4659c931-5b9d-477a-d3c8-79cf84d7668e"
      }
    },
    {
      "cell_type": "code",
      "execution_count": 5,
      "source": [
        "for a in range(1, 333):\r\n",
        "    for b in range(a+1, 500):\r\n",
        "        c = 1000 -a -b\r\n",
        "        if c*c == a*a + b*b:\r\n",
        "            print(a, b, c)"
      ],
      "outputs": [
        {
          "output_type": "stream",
          "name": "stdout",
          "text": [
            "200 375 425\n"
          ]
        }
      ],
      "metadata": {}
    },
    {
      "cell_type": "code",
      "execution_count": 7,
      "source": [
        "[(a, b, c) for a in range(1, 333)\r\n",
        "                for b in range(a+1, 500)\r\n",
        "                    for c in range(b+1, 1000)\r\n",
        "                        if a+b+c==1000 and a*a + b*b == c*c]"
      ],
      "outputs": [
        {
          "output_type": "execute_result",
          "data": {
            "text/plain": [
              "[(200, 375, 425)]"
            ]
          },
          "metadata": {},
          "execution_count": 7
        }
      ],
      "metadata": {}
    }
  ]
}