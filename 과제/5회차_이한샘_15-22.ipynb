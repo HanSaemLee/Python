{
  "nbformat": 4,
  "nbformat_minor": 0,
  "metadata": {
    "colab": {
      "name": "5회차_이한샘_15-22",
      "provenance": [],
      "collapsed_sections": []
    },
    "kernelspec": {
      "name": "python3",
      "display_name": "Python 3"
    },
    "language_info": {
      "name": "python"
    }
  },
  "cells": [
    {
      "cell_type": "markdown",
      "metadata": {
        "id": "iG5M2XGPY8fE"
      },
      "source": [
        "### Unit 15"
      ]
    },
    {
      "cell_type": "code",
      "metadata": {
        "colab": {
          "base_uri": "https://localhost:8080/"
        },
        "id": "oCcY6NBjZCTE",
        "outputId": "4f106be1-3889-4a53-a8b7-13d0b9bee65a"
      },
      "source": [
        "age = int(input())\n",
        "balance = 9000\n",
        "if 7 <= age <= 12:\n",
        "    balance -= 650\n",
        "elif 13 <= age <= 18:\n",
        "    balance -= 1050\n",
        "elif 19 <= age:\n",
        "    balance -= 1250\n",
        "print(balance)\n"
      ],
      "execution_count": null,
      "outputs": [
        {
          "output_type": "stream",
          "text": [
            "10\n",
            "8350\n"
          ],
          "name": "stdout"
        }
      ]
    },
    {
      "cell_type": "markdown",
      "metadata": {
        "id": "yQO5amzNbBF1"
      },
      "source": [
        "### Unit 16"
      ]
    },
    {
      "cell_type": "code",
      "metadata": {
        "id": "nbpDVu6nbALm"
      },
      "source": [
        "number = int(input())\n",
        "for i in range(1, 10):\n",
        "    #print(\"%d * %d = %d\" %(number, i, number*i))\n",
        "    #print(f'{number} * {i} = {number * i}')\n",
        "    print(number, '*', i, '=', number*i)"
      ],
      "execution_count": null,
      "outputs": []
    },
    {
      "cell_type": "markdown",
      "metadata": {
        "id": "xuUpPGSKdEPs"
      },
      "source": [
        "### Unit 17"
      ]
    },
    {
      "cell_type": "code",
      "metadata": {
        "colab": {
          "base_uri": "https://localhost:8080/"
        },
        "id": "-QWf4CfXdGZ2",
        "outputId": "d337bc7f-55eb-4cca-e530-17b777146172"
      },
      "source": [
        "money = int(input())\n",
        "for _ in range(money//1350):\n",
        "    money -= 1350\n",
        "    print(money)"
      ],
      "execution_count": null,
      "outputs": [
        {
          "output_type": "stream",
          "text": [
            "50\n"
          ],
          "name": "stdout"
        }
      ]
    },
    {
      "cell_type": "markdown",
      "metadata": {
        "id": "zCglQK5WeFsD"
      },
      "source": [
        "### Unit 18"
      ]
    },
    {
      "cell_type": "code",
      "metadata": {
        "colab": {
          "base_uri": "https://localhost:8080/"
        },
        "id": "0ZuqKr0IeI_p",
        "outputId": "f95d6f69-dcf1-431e-f8aa-b2ad00c8948e"
      },
      "source": [
        "start, stop = map(int, input().split())\n",
        "i = start\n",
        "while True:\n",
        "    k = i\n",
        "    if k//10 != 0:\n",
        "      k %= 10\n",
        "      if k == 3:\n",
        "        i += 1\n",
        "        continue\n",
        "    if i == 3:\n",
        "      i += 1\n",
        "      continue\n",
        "    if i > stop:\n",
        "      break\n",
        "    print(i, end=' ')\n",
        "    i += 1\n",
        "    \n",
        "\n",
        "\n"
      ],
      "execution_count": 5,
      "outputs": [
        {
          "output_type": "stream",
          "text": [
            "21 50\n",
            "21 22 24 25 26 27 28 29 30 31 32 34 35 36 37 38 39 40 41 42 44 45 46 47 48 49 50 "
          ],
          "name": "stdout"
        }
      ]
    },
    {
      "cell_type": "markdown",
      "metadata": {
        "id": "mcR-0O1oNmBz"
      },
      "source": [
        "### Unit 19"
      ]
    },
    {
      "cell_type": "code",
      "metadata": {
        "colab": {
          "base_uri": "https://localhost:8080/"
        },
        "id": "g4h-JTq2NntV",
        "outputId": "18a9f8c7-373c-4017-b1bb-061ca0caf24b"
      },
      "source": [
        "number = int(input())\n",
        "cnt = 1\n",
        "for i in range(number-1, -1, -1):\n",
        "    print(' '*(((2*i+1)-1)//2), '*'*cnt, ' '*(((2*i+1)-1)//2), sep='')\n",
        "    cnt += 2"
      ],
      "execution_count": 25,
      "outputs": [
        {
          "output_type": "stream",
          "text": [
            "1\n",
            "*\n"
          ],
          "name": "stdout"
        }
      ]
    },
    {
      "cell_type": "markdown",
      "metadata": {
        "id": "D8qzBRl4WX24"
      },
      "source": [
        "### Unit 20"
      ]
    },
    {
      "cell_type": "code",
      "metadata": {
        "colab": {
          "base_uri": "https://localhost:8080/"
        },
        "id": "qMowHqbvTvGp",
        "outputId": "51da6d20-b673-4717-ffa9-4faa32af106e"
      },
      "source": [
        "a, b = map(int, input().split())\n",
        "for i in range(a, b+1):\n",
        "    print('Fizz'*(i%5==0) + 'Buzz'*(i%7==0) or i)"
      ],
      "execution_count": 31,
      "outputs": [
        {
          "output_type": "stream",
          "text": [
            "35 40\n",
            "FizzBuzz\n",
            "36\n",
            "37\n",
            "38\n",
            "39\n",
            "Fizz\n"
          ],
          "name": "stdout"
        }
      ]
    },
    {
      "cell_type": "markdown",
      "metadata": {
        "id": "hVQbenDGWtMA"
      },
      "source": [
        "### Unit 22"
      ]
    },
    {
      "cell_type": "code",
      "metadata": {
        "colab": {
          "base_uri": "https://localhost:8080/"
        },
        "id": "z7puGxufU7qp",
        "outputId": "75a87e34-a302-423f-cc56-0bb4640e130c"
      },
      "source": [
        "a, b = map(int, input().split())\n",
        "n_list = []\n",
        "for i in range(a, b+1):\n",
        "    n_list.append(2**i)\n",
        "del n_list[1], n_list[-2]\n",
        "print(n_list)"
      ],
      "execution_count": 41,
      "outputs": [
        {
          "output_type": "stream",
          "text": [
            "1 5\n",
            "[2, 8, 32]\n"
          ],
          "name": "stdout"
        }
      ]
    },
    {
      "cell_type": "code",
      "metadata": {
        "colab": {
          "base_uri": "https://localhost:8080/"
        },
        "id": "0Csr2ZmWX1Eu",
        "outputId": "2ce2461e-edbc-4981-b2c9-3a692299ad8f"
      },
      "source": [
        "a, b = map(int, input().split())\n",
        "n_list = []\n",
        "[n_list.append(2**i) for i in range(a, b+1)]\n",
        "del n_list[1], n_list[-2]\n",
        "print(n_list)\n"
      ],
      "execution_count": 47,
      "outputs": [
        {
          "output_type": "stream",
          "text": [
            "10 20\n",
            "[1024, 4096, 8192, 16384, 32768, 65536, 131072, 262144, 1048576]\n"
          ],
          "name": "stdout"
        }
      ]
    },
    {
      "cell_type": "code",
      "metadata": {
        "colab": {
          "base_uri": "https://localhost:8080/"
        },
        "id": "62PE1sPReqDk",
        "outputId": "e3ef02c4-d4a8-4311-c94d-031567db3aad"
      },
      "source": [
        "# 본인의 생일을 1998 12 15와 같이 연월일로 입력받아 오늘 날짜의 만나이를 구하는 프로그램을 작성하시오\n",
        "y, m, d = map(int, input().split())\n",
        "y_dif = 2020 - y\n",
        "if m == 7:\n",
        "    if d >= 30 : # 생일 지남\n",
        "      print(y_dif+1)\n",
        "    else: # d < 30 생일 안 지남\n",
        "      print(y_dif)\n",
        "elif m > 7:\n",
        "    print(y_dif+1)\n",
        "else: # m < 7:\n",
        "    print(y_diff)"
      ],
      "execution_count": 67,
      "outputs": [
        {
          "output_type": "stream",
          "text": [
            "1987 7 30\n",
            "34\n"
          ],
          "name": "stdout"
        }
      ]
    },
    {
      "cell_type": "code",
      "metadata": {
        "colab": {
          "base_uri": "https://localhost:8080/"
        },
        "id": "CjtrPF4_isgm",
        "outputId": "303be0e9-2777-417d-9c4c-5a679f58e28a"
      },
      "source": [
        "# 디지털 시계에 하룻동안 (00:00~23:59) 3이 표시되는 시간을 초로 환산하면 총 몇 초일까요? 디지털 시계는 하룻동안 다음과 같이 시:분(00:00~23:59)으로 표시됨\n",
        "sum = 0\n",
        "for i in range(1, 25):\n",
        "    for k in range(1, 61):\n",
        "      if k%10 == 3 or i%10 == 3:\n",
        "        sum += 1\n",
        "print(sum*60)\n"
      ],
      "execution_count": 54,
      "outputs": [
        {
          "output_type": "stream",
          "text": [
            "18360\n"
          ],
          "name": "stdout"
        }
      ]
    },
    {
      "cell_type": "code",
      "metadata": {
        "colab": {
          "base_uri": "https://localhost:8080/"
        },
        "id": "KOIl7RRmfPlx",
        "outputId": "4659c931-5b9d-477a-d3c8-79cf84d7668e"
      },
      "source": [
        "# a+b+c = 1000 a < b < c\n",
        "# a*a + b*b = c*c\n",
        "for a in range(1, 1000):\n",
        "  for b in range(a+1, 1000):\n",
        "    for c in range(b+1, 1000):\n",
        "      if a + b + c > 1000:\n",
        "        break\n",
        "      else:\n",
        "        if a*a + b*b == c*c and a + b + c == 1000:\n",
        "          print(a, b, c)\n",
        "      "
      ],
      "execution_count": 50,
      "outputs": [
        {
          "output_type": "stream",
          "text": [
            "200 375 425\n"
          ],
          "name": "stdout"
        }
      ]
    }
  ]
}