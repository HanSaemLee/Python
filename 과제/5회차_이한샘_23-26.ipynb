{
 "cells": [
  {
   "cell_type": "markdown",
   "source": [
    "### Unit 23"
   ],
   "metadata": {}
  },
  {
   "cell_type": "markdown",
   "source": [
    "표준 입력으로 2차원 리스트의 가로(col)와 세로(row)가 입력되고 그 다음 줄부터 리스트의 요소로 들어갈 문자가 입력됩니다. 이때 2차원 리스트 안에서 *는 지뢰이고 .은 지뢰가 아닙니다. 지뢰가 아닌 요소에는 인접한 지뢰의 개수를 출력하는 프로그램을 만드세요(input에서 안내 문자열은 출력하지 않아야 합니다).\r\n",
    "\r\n",
    "여러 줄을 입력 받으려면 다음과 같이 for 반복문에서 input을 호출한 뒤 append로 각 줄을 추가하면 됩니다(list 안에 문자열을 넣으면 문자열이 문자 리스트로 변환됩니다).\r\n",
    "\r\n",
    "matrix = []\r\n",
    "\r\n",
    "for i in range(row):\r\n",
    "\r\n",
    "    matrix.append(list(input()))\r\n",
    "    \r\n",
    "이 문제는 지금까지 심사문제 중에서 가장 어렵습니다. 처음 풀어보는 경우 대략 두 시간은 걸립니다. 시간을 두고 천천히 고민해서 풀어보세요. 지금까지 학습한 내용을 모두 동원해야 풀 수 있으며 막힐 때는 지금까지 학습한 내용을 다시 복습하면서 힌트를 찾아보세요."
   ],
   "metadata": {}
  },
  {
   "cell_type": "code",
   "execution_count": null,
   "source": [
    "# 내가 완성한 코드\r\n",
    "col, row = map(int, input().split())\r\n",
    "\r\n",
    "matrix = [['-']*(col+2)]\r\n",
    "for i in range(row):\r\n",
    "    matrix.append(list(input()))\r\n",
    "    matrix[i+1].insert(0, '-')\r\n",
    "    matrix[i+1].insert(len(matrix[i+1]), '-')\r\n",
    "\r\n",
    "matrix.append(['-']*(col+2))\r\n",
    "\r\n",
    "for i in range(1, row+1):\r\n",
    "    for k in range(1, col+1):\r\n",
    "        cnt = 0\r\n",
    "        if matrix[i][k] == '.':\r\n",
    "            if matrix[i-1][k-1] == '*':\r\n",
    "                cnt += 1\r\n",
    "            if matrix[i-1][k] == '*':\r\n",
    "                cnt += 1\r\n",
    "            if matrix[i-1][k+1] == '*':\r\n",
    "                cnt += 1\r\n",
    "            if matrix[i][k-1] == '*':\r\n",
    "                cnt += 1\r\n",
    "            if matrix[i][k+1] == '*':\r\n",
    "                cnt += 1\r\n",
    "            if matrix[i+1][k-1] == '*':\r\n",
    "                cnt += 1\r\n",
    "            if matrix[i+1][k] == '*':\r\n",
    "                cnt += 1\r\n",
    "            if matrix[i+1][k+1] == '*':\r\n",
    "                cnt += 1\r\n",
    "            matrix[i][k] = cnt\r\n",
    "\r\n",
    "for i in range(1, row+1):\r\n",
    "    for k in range(1, col+1):\r\n",
    "        print(matrix[i][k], end='')\r\n",
    "    print()\r\n",
    "    "
   ],
   "outputs": [],
   "metadata": {}
  },
  {
   "cell_type": "markdown",
   "source": [
    "### Unit 24.1"
   ],
   "metadata": {}
  },
  {
   "cell_type": "markdown",
   "source": [
    "표준 입력으로 문자열이 입력됩니다. 입력된 문자열에서 'the'의 개수를 출력하는 프로그램을 만드세요(input에서 안내 문자열은 출력하지 않아야 합니다). 단, 모든 문자가 소문자인 'the'만 찾으면 되며 'them', 'there', 'their' 등은 포함하지 않아야 합니다.\r\n",
    "\r\n",
    "the grown-ups' response, this time, was to advise me to lay aside my drawings of boa constrictors, whether from the inside or the outside, and devote myself instead to geography, history, arithmetic, and grammar. That is why, at the, age of six, I gave up what might have been a magnificent career as a painter. I had been disheartened by the failure of my Drawing Number One and my Drawing Number Two. Grown-ups never understand anything by themselves, and it is tiresome for children to be always and forever explaining things to the."
   ],
   "metadata": {}
  },
  {
   "cell_type": "code",
   "execution_count": 11,
   "source": [
    "string_ = input()\r\n",
    "string_list = string_.split()\r\n",
    "cnt = 0\r\n",
    "for i in string_list:\r\n",
    "    if i.strip('.') == 'the' or i.strip(',') == 'the':\r\n",
    "        cnt += 1\r\n",
    "print(cnt)\r\n",
    "\r\n"
   ],
   "outputs": [
    {
     "output_type": "stream",
     "name": "stdout",
     "text": [
      "0\n"
     ]
    }
   ],
   "metadata": {}
  },
  {
   "cell_type": "markdown",
   "source": [
    "### Unit 24.2"
   ],
   "metadata": {}
  },
  {
   "cell_type": "markdown",
   "source": [
    "표준 입력으로 물품 가격 여러 개가 문자열 한 줄로 입력되고, 각 가격은 ;(세미콜론)으로 구분되어 있습니다. 입력된 가격을 높은 가격순으로 출력하는 프로그램을 만드세요(input에서 안내 문자열은 출력하지 않아야 합니다). 이때 가격은 길이를 9로 만든 뒤 오른쪽으로 정렬하고 천단위로 ,(콤마)를 넣으세요."
   ],
   "metadata": {}
  },
  {
   "cell_type": "code",
   "execution_count": null,
   "source": [
    "price = input()\r\n",
    "price = price.split(';')\r\n",
    "for i in sorted(map(int, price), reverse=True):\r\n",
    "    print(f'{i:9,d}')\r\n"
   ],
   "outputs": [],
   "metadata": {}
  },
  {
   "cell_type": "markdown",
   "source": [
    "### Unit 25"
   ],
   "metadata": {}
  },
  {
   "cell_type": "code",
   "execution_count": 16,
   "source": [
    "keys = ['alpha', 'brabo', 'charlie', 'delta'] #input().split()\r\n",
    "values = [10, 20, 30, 40] #map(int, input().split())\r\n",
    "\r\n",
    "x = dict(zip(keys, values))\r\n",
    "\r\n",
    "del x['delta']\r\n",
    "\r\n",
    "keys2 = [] \r\n",
    "values2 = []\r\n",
    "for key, value in x.items():     \r\n",
    "    if value != 30:\r\n",
    "       keys2.append(key)\r\n",
    "       values2.append(value)\r\n",
    "\r\n",
    "x = dict(zip(keys2, values2))  #dict(zip())은 인자로 리스트를 필요로 한다.\r\n",
    "\r\n",
    "print(x)"
   ],
   "outputs": [
    {
     "output_type": "stream",
     "name": "stdout",
     "text": [
      "{'alpha': 10, 'brabo': 20}\n"
     ]
    }
   ],
   "metadata": {}
  },
  {
   "cell_type": "code",
   "execution_count": 17,
   "source": [
    "keys = ['alpha', 'brabo', 'charlie', 'delta'] #input().split()\r\n",
    "values = [10, 20, 30, 40] #map(int, input().split())\r\n",
    "\r\n",
    "x = dict(zip(keys, values))\r\n",
    "\r\n",
    "del x['delta']\r\n",
    "for key, value in x.items():\r\n",
    "    if value == 30:\r\n",
    "        break\r\n",
    "x.pop(key) # del x[key]\r\n",
    "x"
   ],
   "outputs": [
    {
     "output_type": "execute_result",
     "data": {
      "text/plain": [
       "{'alpha': 10, 'brabo': 20, 'delta': 40}"
      ]
     },
     "metadata": {},
     "execution_count": 17
    }
   ],
   "metadata": {}
  },
  {
   "cell_type": "markdown",
   "source": [
    "### Unit 26"
   ],
   "metadata": {}
  },
  {
   "cell_type": "markdown",
   "source": [
    "표준 입력으로 양의 정수 두 개가 입력됩니다. 다음 소스 코드를 완성하여 두 숫자의 공약수를 세트 형태로 구하도록 만드세요. 단, 최종 결과는 공약수의 합으로 판단합니다."
   ],
   "metadata": {}
  },
  {
   "cell_type": "code",
   "execution_count": 35,
   "source": [
    "# 처음 만든 코드\r\n",
    "A, B = map(int, input().split())\r\n",
    "a, b = {1, A}, {1, B}\r\n",
    "for i in range(2, A):\r\n",
    "    if A%i == 0:\r\n",
    "        a.add(i)\r\n",
    "for i in range(2, B):\r\n",
    "    if B%i == 0:\r\n",
    "        b.add(i)\r\n",
    "\r\n",
    "divisor = a & b\r\n",
    "\r\n",
    "result = 0\r\n",
    "if type(divisor) == set:\r\n",
    "    result = sum(divisor)\r\n",
    "\r\n",
    "print(result)"
   ],
   "outputs": [
    {
     "output_type": "stream",
     "name": "stdout",
     "text": [
      "18\n"
     ]
    }
   ],
   "metadata": {}
  },
  {
   "cell_type": "code",
   "execution_count": 34,
   "source": [
    "# 간략히\r\n",
    "\r\n",
    "A, B = map(int, input().split())\r\n",
    "\r\n",
    "a = {i for i in range(1, A+1) if A%i == 0}\r\n",
    "b = {i for i in range(1, B+1) if B%i == 0}\r\n",
    "\r\n",
    "divisor = a & b\r\n",
    "\r\n",
    "result = 0\r\n",
    "if type(divisor) == set:\r\n",
    "    result = sum(divisor)\r\n",
    "\r\n",
    "print(result)\r\n"
   ],
   "outputs": [
    {
     "output_type": "stream",
     "name": "stdout",
     "text": [
      "217\n"
     ]
    }
   ],
   "metadata": {}
  }
 ],
 "metadata": {
  "orig_nbformat": 4,
  "language_info": {
   "name": "python",
   "version": "3.8.10",
   "mimetype": "text/x-python",
   "codemirror_mode": {
    "name": "ipython",
    "version": 3
   },
   "pygments_lexer": "ipython3",
   "nbconvert_exporter": "python",
   "file_extension": ".py"
  },
  "kernelspec": {
   "name": "python3",
   "display_name": "Python 3.8.10 64-bit ('base': conda)"
  },
  "interpreter": {
   "hash": "3afaf00aff83f2e8eb9647e300ff648c4cd120434f7e4c9b48fc973ba4a47465"
  }
 },
 "nbformat": 4,
 "nbformat_minor": 2
}