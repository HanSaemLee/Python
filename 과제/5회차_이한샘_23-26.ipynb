{
 "cells": [
  {
   "cell_type": "markdown",
   "source": [
    "### Unit 23"
   ],
   "metadata": {}
  },
  {
   "cell_type": "code",
   "execution_count": 75,
   "source": [
    "col, row = map(int, input().split())\r\n",
    "\r\n",
    "matrix = [['-']*(col+2)]\r\n",
    "for i in range(row):\r\n",
    "    matrix.append(list(input()))\r\n",
    "    matrix[i+1].insert(0, '-')\r\n",
    "    matrix[i+1].insert(len(matrix[i+1]), '-')\r\n",
    "\r\n",
    "matrix.append(['-']*(col+2))\r\n",
    "\r\n",
    "for i in range(1, row+1):\r\n",
    "    for k in range(1, col+1):\r\n",
    "        cnt = 0\r\n",
    "        if matrix[i][k] == '.':\r\n",
    "            if matrix[i-1][k-1] == '*':\r\n",
    "                cnt += 1\r\n",
    "            if matrix[i-1][k] == '*':\r\n",
    "                cnt += 1\r\n",
    "            if matrix[i-1][k+1] == '*':\r\n",
    "                cnt += 1\r\n",
    "            if matrix[i][k-1] == '*':\r\n",
    "                cnt += 1\r\n",
    "            if matrix[i][k+1] == '*':\r\n",
    "                cnt += 1\r\n",
    "            if matrix[i+1][k-1] == '*':\r\n",
    "                cnt += 1\r\n",
    "            if matrix[i+1][k] == '*':\r\n",
    "                cnt += 1\r\n",
    "            if matrix[i+1][k+1] == '*':\r\n",
    "                cnt += 1\r\n",
    "            matrix[i][k] = cnt\r\n",
    "\r\n",
    "for i in range(1, row+1):\r\n",
    "    for k in range(1, col+1):\r\n",
    "        print(matrix[i][k], end='')\r\n",
    "    print()\r\n",
    "    "
   ],
   "outputs": [
    {
     "output_type": "stream",
     "name": "stdout",
     "text": [
      "2**\n",
      "*43\n",
      "2*1\n"
     ]
    }
   ],
   "metadata": {}
  },
  {
   "cell_type": "markdown",
   "source": [
    "### Unit 24"
   ],
   "metadata": {}
  },
  {
   "cell_type": "code",
   "execution_count": 113,
   "source": [
    "string_ = input()\r\n",
    "string_list = string_.split()\r\n",
    "cnt = 0\r\n",
    "for i in string_list:\r\n",
    "    if i.strip('.') == 'the' or i.strip(',') == 'the':\r\n",
    "        cnt += 1\r\n",
    "print(cnt)\r\n",
    "\r\n"
   ],
   "outputs": [
    {
     "output_type": "stream",
     "name": "stdout",
     "text": [
      "3\n"
     ]
    }
   ],
   "metadata": {}
  },
  {
   "cell_type": "code",
   "execution_count": null,
   "source": [
    "price = input()\r\n",
    "price = price.split(';')\r\n",
    "for i in sorted(map(int, price), reverse=True):\r\n",
    "    print(f'{i:9,d}')\r\n"
   ],
   "outputs": [],
   "metadata": {}
  },
  {
   "cell_type": "markdown",
   "source": [
    "### Unit 25"
   ],
   "metadata": {}
  },
  {
   "cell_type": "code",
   "execution_count": 21,
   "source": [
    "keys = ['alpha', 'brabo', 'charlie', 'delta'] #input().split()\r\n",
    "values = [10, 20, 30, 40] #map(int, input().split())\r\n",
    "\r\n",
    "x = dict(zip(keys, values))\r\n",
    "\r\n",
    "del x['delta']\r\n",
    "\r\n",
    "keys2 = [] \r\n",
    "values2 = []\r\n",
    "for key, value in x.items():     \r\n",
    "    if value != 30:\r\n",
    "       keys2.append(key)\r\n",
    "       values2.append(value)\r\n",
    "\r\n",
    "x = dict(zip(keys2, values2))  #dict(zip())은 인자로 리스트를 필요로 한다.\r\n",
    "\r\n",
    "print(x)"
   ],
   "outputs": [
    {
     "output_type": "stream",
     "name": "stdout",
     "text": [
      "{'alpha': 10, 'brabo': 20}\n"
     ]
    }
   ],
   "metadata": {}
  },
  {
   "cell_type": "markdown",
   "source": [
    "### Unit 26"
   ],
   "metadata": {}
  },
  {
   "cell_type": "code",
   "execution_count": 35,
   "source": [
    "# 처음 만든 코드\r\n",
    "A, B = map(int, input().split())\r\n",
    "a, b = {1, A}, {1, B}\r\n",
    "for i in range(2, A):\r\n",
    "    if A%i == 0:\r\n",
    "        a.add(i)\r\n",
    "for i in range(2, B):\r\n",
    "    if B%i == 0:\r\n",
    "        b.add(i)\r\n",
    "\r\n",
    "divisor = a & b\r\n",
    "\r\n",
    "result = 0\r\n",
    "if type(divisor) == set:\r\n",
    "    result = sum(divisor)\r\n",
    "\r\n",
    "print(result)"
   ],
   "outputs": [
    {
     "output_type": "stream",
     "name": "stdout",
     "text": [
      "18\n"
     ]
    }
   ],
   "metadata": {}
  },
  {
   "cell_type": "code",
   "execution_count": 34,
   "source": [
    "# 간략히\r\n",
    "\r\n",
    "A, B = map(int, input().split())\r\n",
    "\r\n",
    "a = {i for i in range(1, A+1) if A%i == 0}\r\n",
    "b = {i for i in range(1, B+1) if B%i == 0}\r\n",
    "\r\n",
    "divisor = a & b\r\n",
    "\r\n",
    "result = 0\r\n",
    "if type(divisor) == set:\r\n",
    "    result = sum(divisor)\r\n",
    "\r\n",
    "print(result)\r\n"
   ],
   "outputs": [
    {
     "output_type": "stream",
     "name": "stdout",
     "text": [
      "217\n"
     ]
    }
   ],
   "metadata": {}
  }
 ],
 "metadata": {
  "orig_nbformat": 4,
  "language_info": {
   "name": "python",
   "version": "3.8.10",
   "mimetype": "text/x-python",
   "codemirror_mode": {
    "name": "ipython",
    "version": 3
   },
   "pygments_lexer": "ipython3",
   "nbconvert_exporter": "python",
   "file_extension": ".py"
  },
  "kernelspec": {
   "name": "python3",
   "display_name": "Python 3.8.10 64-bit ('base': conda)"
  },
  "interpreter": {
   "hash": "3afaf00aff83f2e8eb9647e300ff648c4cd120434f7e4c9b48fc973ba4a47465"
  }
 },
 "nbformat": 4,
 "nbformat_minor": 2
}