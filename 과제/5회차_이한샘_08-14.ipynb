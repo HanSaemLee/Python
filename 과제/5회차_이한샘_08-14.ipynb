{
  "nbformat": 4,
  "nbformat_minor": 0,
  "metadata": {
    "colab": {
      "name": "5회차_이한샘.ipynb",
      "provenance": [],
      "collapsed_sections": []
    },
    "kernelspec": {
      "name": "python3",
      "display_name": "Python 3"
    },
    "language_info": {
      "name": "python"
    }
  },
  "cells": [
    {
      "cell_type": "markdown",
      "metadata": {
        "id": "pYk_CLzcytPZ"
      },
      "source": [
        "# 심사문제"
      ]
    },
    {
      "cell_type": "markdown",
      "metadata": {
        "id": "YwGPcxNwyy74"
      },
      "source": [
        "### Unit 8_"
      ]
    },
    {
      "cell_type": "code",
      "metadata": {
        "colab": {
          "base_uri": "https://localhost:8080/"
        },
        "id": "_eimHa0lyspS",
        "outputId": "aedbb277-b3fa-47dc-f303-7f3d9eb95b65"
      },
      "source": [
        "A, B, C, D = map(int, input().split())\n",
        "print(A >= 90 and B > 80 and C > 85 and D >= 80)"
      ],
      "execution_count": 65,
      "outputs": [
        {
          "output_type": "stream",
          "text": [
            "90 80 85 80\n"
          ],
          "name": "stdout"
        },
        {
          "output_type": "execute_result",
          "data": {
            "text/plain": [
              "False"
            ]
          },
          "metadata": {
            "tags": []
          },
          "execution_count": 65
        }
      ]
    },
    {
      "cell_type": "markdown",
      "metadata": {
        "id": "F-dj1zT_zAeI"
      },
      "source": [
        "### Unit 9_여러 줄로 된 문자열 사용하기"
      ]
    },
    {
      "cell_type": "code",
      "metadata": {
        "colab": {
          "base_uri": "https://localhost:8080/"
        },
        "id": "7i5Lc1cly5TW",
        "outputId": "510dfc5d-79cc-4bc7-f819-893cbb2b16a9"
      },
      "source": [
        "s = \"\"\"'Python' is a \"programming language\"\n",
        "that lets you work quickly\n",
        "and\n",
        "integrate systems more effectively.\"\"\"\n",
        "print(s)"
      ],
      "execution_count": 68,
      "outputs": [
        {
          "output_type": "stream",
          "text": [
            "'Python' is a \"programming language\"\n",
            "that lets you work quickly\n",
            "and\n",
            "integrate systems more effectively.\n"
          ],
          "name": "stdout"
        }
      ]
    },
    {
      "cell_type": "markdown",
      "metadata": {
        "id": "VqOyNBXo4Z0g"
      },
      "source": [
        "### Unit 10_range로 리스트 만들기"
      ]
    },
    {
      "cell_type": "code",
      "metadata": {
        "colab": {
          "base_uri": "https://localhost:8080/"
        },
        "id": "Zft0cR7t0JEZ",
        "outputId": "bc61650f-d33b-4aaf-f63f-39a403add1f1"
      },
      "source": [
        "print(tuple(range(-10, 10, int(input()))))"
      ],
      "execution_count": 38,
      "outputs": [
        {
          "output_type": "stream",
          "text": [
            "3\n",
            "(-10, -7, -4, -1, 2, 5, 8)\n"
          ],
          "name": "stdout"
        }
      ]
    },
    {
      "cell_type": "markdown",
      "metadata": {
        "id": "w6FNQpLf43HX"
      },
      "source": [
        "### Unit 11_문자열에서 인덱스가 홀수인 문자와 짝수인 문자 연결하기"
      ]
    },
    {
      "cell_type": "code",
      "metadata": {
        "colab": {
          "base_uri": "https://localhost:8080/"
        },
        "id": "_w8RZ0vo4lPG",
        "outputId": "af872865-fadf-4a59-d198-388656180654"
      },
      "source": [
        "A = input()\n",
        "B = input()\n",
        "print(A[1::2]+B[::2])"
      ],
      "execution_count": 41,
      "outputs": [
        {
          "output_type": "stream",
          "text": [
            "apple\n",
            "strawberry\n",
            "plsrwer\n"
          ],
          "name": "stdout"
        }
      ]
    },
    {
      "cell_type": "markdown",
      "metadata": {
        "id": "8s9qK0zZ7PsG"
      },
      "source": [
        "### Unit 12_딕셔너리에 게임 캐릭터 능력치 저장하기"
      ]
    },
    {
      "cell_type": "code",
      "metadata": {
        "colab": {
          "base_uri": "https://localhost:8080/"
        },
        "id": "E95W4wab63kW",
        "outputId": "813ff698-a8be-493f-db0f-8cd28f549db2"
      },
      "source": [
        "a = list(map(str, input().split()))\n",
        "b = list(map(float, input().split()))\n",
        "print(dict(zip(a, b)))"
      ],
      "execution_count": 49,
      "outputs": [
        {
          "output_type": "stream",
          "text": [
            "a b c d\n",
            " 2 3 4 1\n",
            "{'a': 2, 'b': 3, 'c': 4, 'd': 1}\n"
          ],
          "name": "stdout"
        }
      ]
    },
    {
      "cell_type": "markdown",
      "metadata": {
        "id": "Ty9tg9eZ8ude"
      },
      "source": [
        "### Unit 13_온라인 할인 쿠폰 시스템 만들기"
      ]
    },
    {
      "cell_type": "code",
      "metadata": {
        "colab": {
          "base_uri": "https://localhost:8080/"
        },
        "id": "_Nt9nkV57wYL",
        "outputId": "41371e4a-a6c2-42bf-e5bb-a0d12aa5312b"
      },
      "source": [
        "N = int(input())\n",
        "cu = input()\n",
        "if cu == 'Cash3000':\n",
        "    print(N-3000)\n",
        "else:\n",
        "    print(N-5000)"
      ],
      "execution_count": 50,
      "outputs": [
        {
          "output_type": "stream",
          "text": [
            "27000\n",
            "Cash3000\n",
            "24000\n"
          ],
          "name": "stdout"
        }
      ]
    },
    {
      "cell_type": "code",
      "metadata": {
        "colab": {
          "base_uri": "https://localhost:8080/"
        },
        "id": "jf5L1bG49ey4",
        "outputId": "6d20b61d-a2c4-4be8-a0b9-85c9518cdf48"
      },
      "source": [
        "N = int(input())\n",
        "cu = input()\n",
        "print(N-3000) if cu == 'Cash3000' else print(N-5000)"
      ],
      "execution_count": 52,
      "outputs": [
        {
          "output_type": "stream",
          "text": [
            "27000\n",
            "Cash5000\n",
            "22000\n"
          ],
          "name": "stdout"
        }
      ]
    },
    {
      "cell_type": "markdown",
      "metadata": {
        "id": "r5H9m98K-SaN"
      },
      "source": [
        "### Unit 14_합격 여부 판단하기"
      ]
    },
    {
      "cell_type": "code",
      "metadata": {
        "colab": {
          "base_uri": "https://localhost:8080/"
        },
        "id": "hJDeY3xX98CA",
        "outputId": "96f7c511-9337-4f50-c15d-244a73d771aa"
      },
      "source": [
        "A, B, C, D = map(int, input().split())\n",
        "if 100 >= A >= 0 and 100 >= B >= 0 and 100 >= C >= 0 and 100 >= D >= 0:\n",
        "  print('합격' if (A+B+C+D)/4 >= 80 else '불합격')\n",
        "else:\n",
        "  print('잘못된 점수')"
      ],
      "execution_count": 59,
      "outputs": [
        {
          "output_type": "stream",
          "text": [
            "101 90 80 90\n",
            "잘못된 점수\n"
          ],
          "name": "stdout"
        }
      ]
    }
  ]
}