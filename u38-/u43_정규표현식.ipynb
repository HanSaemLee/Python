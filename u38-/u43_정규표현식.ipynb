{
 "cells": [
  {
   "cell_type": "markdown",
   "source": [
    "# Unit 43. 정규표현식\r\n",
    "\r\n",
    "### 정규표현식은 문자열의 패턴을 찾는 것"
   ],
   "metadata": {}
  },
  {
   "cell_type": "markdown",
   "source": [
    "## 43.1 문자열 판단"
   ],
   "metadata": {}
  },
  {
   "cell_type": "code",
   "execution_count": 4,
   "source": [
    "import re\r\n",
    "re.match('Hello', 'Hello, world!')      # 패턴, 문자열"
   ],
   "outputs": [
    {
     "output_type": "execute_result",
     "data": {
      "text/plain": [
       "<re.Match object; span=(0, 5), match='Hello'>"
      ]
     },
     "metadata": {},
     "execution_count": 4
    }
   ],
   "metadata": {}
  },
  {
   "cell_type": "code",
   "execution_count": 7,
   "source": [
    "z = re.match('Hello', 'Hello, world!')\r\n",
    "if z:\r\n",
    "    print('Found!!')\r\n",
    "else:\r\n",
    "    print('Not found.')"
   ],
   "outputs": [
    {
     "output_type": "stream",
     "name": "stdout",
     "text": [
      "Found!!\n"
     ]
    }
   ],
   "metadata": {}
  },
  {
   "cell_type": "code",
   "execution_count": 9,
   "source": [
    "# match()는 문자의 처음에서 찾음\r\n",
    "if re.match('world', 'Hello, world!'):\r\n",
    "    print('Found!!')\r\n",
    "else:\r\n",
    "    print('Not found.')"
   ],
   "outputs": [
    {
     "output_type": "stream",
     "name": "stdout",
     "text": [
      "Not found.\n"
     ]
    }
   ],
   "metadata": {}
  },
  {
   "cell_type": "code",
   "execution_count": 10,
   "source": [
    "# search()는 모든 문장에서 찾음\r\n",
    "if re.search('world', 'Hello, world!'):\r\n",
    "    print('Found!!')\r\n",
    "else:\r\n",
    "    print('Not found.')"
   ],
   "outputs": [
    {
     "output_type": "stream",
     "name": "stdout",
     "text": [
      "Found!!\n"
     ]
    }
   ],
   "metadata": {}
  },
  {
   "cell_type": "markdown",
   "source": [
    "## 43.2 범위 판단"
   ],
   "metadata": {}
  },
  {
   "cell_type": "code",
   "execution_count": 13,
   "source": [
    "# 휴대전화 번호형식\r\n",
    "pattern = '010-[0-9]{4}-[0-9]{4}'\r\n",
    "text = '010-1234-5678'\r\n",
    "if re.match(pattern, text):\r\n",
    "    print('올바른 휴대전화번호')\r\n",
    "else:\r\n",
    "    print('잘못된 휴대전화번호')"
   ],
   "outputs": [
    {
     "output_type": "stream",
     "name": "stdout",
     "text": [
      "올바른 휴대전화번호\n"
     ]
    }
   ],
   "metadata": {}
  },
  {
   "cell_type": "code",
   "execution_count": 14,
   "source": [
    "# 한글 패턴\r\n",
    "hangul = '[ㄱ-하-ㅣ가-힣]+'\r\n",
    "text = 'text'\r\n",
    "if re.search(hangul, text):\r\n",
    "    print('한글이 있음')\r\n",
    "else:\r\n",
    "    print('한글이 없음')"
   ],
   "outputs": [
    {
     "output_type": "stream",
     "name": "stdout",
     "text": [
      "한글이 없음\n"
     ]
    }
   ],
   "metadata": {}
  },
  {
   "cell_type": "markdown",
   "source": [
    "## 43.4 문자열 바꾸기"
   ],
   "metadata": {}
  },
  {
   "cell_type": "code",
   "execution_count": 16,
   "source": [
    "# re.sub('패턴', '바꿀 문자열', '문자열')\r\n",
    "re.sub('apple|orange', 'fruit', 'apple box orange tree')"
   ],
   "outputs": [
    {
     "output_type": "execute_result",
     "data": {
      "text/plain": [
       "'fruit box fruit tree'"
      ]
     },
     "metadata": {},
     "execution_count": 16
    }
   ],
   "metadata": {}
  },
  {
   "cell_type": "code",
   "execution_count": 18,
   "source": [
    "re.sub('[0-9]', 'n', '1 2 Fizz 4 Buzz Fizz 7 8 Fizz Buzz 11 12')"
   ],
   "outputs": [
    {
     "output_type": "execute_result",
     "data": {
      "text/plain": [
       "'n n Fizz n Buzz Fizz n n Fizz Buzz nn nn'"
      ]
     },
     "metadata": {},
     "execution_count": 18
    }
   ],
   "metadata": {}
  },
  {
   "cell_type": "code",
   "execution_count": 21,
   "source": [
    "re.sub('[0-9]+', 'n', '1 2 Fizz 4 Buzz Fizz 7 8 Fizz Buzz 11 12')"
   ],
   "outputs": [
    {
     "output_type": "execute_result",
     "data": {
      "text/plain": [
       "'n n Fizz n Buzz Fizz n n Fizz Buzz n n'"
      ]
     },
     "metadata": {},
     "execution_count": 21
    }
   ],
   "metadata": {}
  },
  {
   "cell_type": "code",
   "execution_count": 26,
   "source": [
    "text = '''가장 단순한 형태의 원자는 리터럴(literal)이지만 원자를 일치시키기 위해 \r\n",
    "패턴을 묶을 때에는 메타문자로서 ( )을 사용해야 한다'''"
   ],
   "outputs": [],
   "metadata": {}
  },
  {
   "cell_type": "code",
   "execution_count": 28,
   "source": [
    "not_hangul_blank = '[^ㄱ-하ㅓ-ㅣ가-힣 ]'\r\n",
    "text = re.sub(not_hangul_blank, '', text)\r\n",
    "text"
   ],
   "outputs": [
    {
     "output_type": "execute_result",
     "data": {
      "text/plain": [
       "'가장 단순한 형태의 원자는 리터럴이지만 원자를 일치시키기 위해 패턴을 묶을 때에는 메타문자로서  을 사용해야 한다'"
      ]
     },
     "metadata": {},
     "execution_count": 28
    }
   ],
   "metadata": {}
  },
  {
   "cell_type": "code",
   "execution_count": 30,
   "source": [
    "text = '에밀리블런트 사랑해,, 사람스러움의 끝 ㅠㅠ 4DX로 보면 더 재밌을 듯'\r\n",
    "text = re.sub(not_hangul_blank, '', text)\r\n",
    "text"
   ],
   "outputs": [
    {
     "output_type": "execute_result",
     "data": {
      "text/plain": [
       "'에밀리블런트 사랑해 사람스러움의 끝 ㅠㅠ 로 보면 더 재밌을 듯'"
      ]
     },
     "metadata": {},
     "execution_count": 30
    }
   ],
   "metadata": {}
  },
  {
   "cell_type": "markdown",
   "source": [
    "### 이메일 주소 검사하기"
   ],
   "metadata": {}
  },
  {
   "cell_type": "code",
   "execution_count": 31,
   "source": [
    "# p = re.compile('^[0-9a-zA-Z]([-_.]?[0-9a-zA-Z])*@[0-9a-zA-Z]([-_.]?[0-9a-zA-Z])*.[a-zA-Z]{2,3}$')\r\n",
    "p = re.compile('^[a-zA-Z0-9+-_.]+@[a-zA-Z0-9-]+\\.[a-zA-Z0-9-.]+$')"
   ],
   "outputs": [],
   "metadata": {}
  }
 ],
 "metadata": {
  "orig_nbformat": 4,
  "language_info": {
   "name": "python",
   "version": "3.8.10",
   "mimetype": "text/x-python",
   "codemirror_mode": {
    "name": "ipython",
    "version": 3
   },
   "pygments_lexer": "ipython3",
   "nbconvert_exporter": "python",
   "file_extension": ".py"
  },
  "kernelspec": {
   "name": "python3",
   "display_name": "Python 3.8.10 64-bit ('base': conda)"
  },
  "interpreter": {
   "hash": "3afaf00aff83f2e8eb9647e300ff648c4cd120434f7e4c9b48fc973ba4a47465"
  }
 },
 "nbformat": 4,
 "nbformat_minor": 2
}