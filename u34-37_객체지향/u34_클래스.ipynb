{
 "cells": [
  {
   "cell_type": "markdown",
   "source": [
    "# Unit 34. 클래스(Class)"
   ],
   "metadata": {}
  },
  {
   "cell_type": "markdown",
   "source": [
    "## 34.1 클래스와 메서드 만들기"
   ],
   "metadata": {}
  },
  {
   "cell_type": "code",
   "execution_count": 1,
   "source": [
    "class Person:           # 클래스 이름은 대문자로 시작\r\n",
    "    def greeting(self):\r\n",
    "        print('Hello')"
   ],
   "outputs": [],
   "metadata": {}
  },
  {
   "cell_type": "code",
   "execution_count": 2,
   "source": [
    "# 인스턴스를 만들어야 클래스를 사용할 수 있다\r\n",
    "james = Person()\r\n",
    "maria = Person()"
   ],
   "outputs": [],
   "metadata": {}
  },
  {
   "cell_type": "code",
   "execution_count": 3,
   "source": [
    "james.greeting()"
   ],
   "outputs": [
    {
     "output_type": "stream",
     "name": "stdout",
     "text": [
      "Hello\n"
     ]
    }
   ],
   "metadata": {}
  },
  {
   "cell_type": "code",
   "execution_count": 4,
   "source": [
    "maria.greeting()"
   ],
   "outputs": [
    {
     "output_type": "stream",
     "name": "stdout",
     "text": [
      "Hello\n"
     ]
    }
   ],
   "metadata": {}
  },
  {
   "cell_type": "code",
   "execution_count": 5,
   "source": [
    "Person().greeting() # 변수명을 정하지 않고 쓸 때 이렇게 쓸 수 있다"
   ],
   "outputs": [
    {
     "output_type": "stream",
     "name": "stdout",
     "text": [
      "Hello\n"
     ]
    }
   ],
   "metadata": {}
  },
  {
   "cell_type": "code",
   "execution_count": 7,
   "source": [
    "# int(), list() 등 모두 클래스다\r\n",
    "a = 10\r\n",
    "type(a)"
   ],
   "outputs": [
    {
     "output_type": "execute_result",
     "data": {
      "text/plain": [
       "int"
      ]
     },
     "metadata": {},
     "execution_count": 7
    }
   ],
   "metadata": {}
  },
  {
   "cell_type": "code",
   "execution_count": 11,
   "source": [
    "# 클래스 내에서 메서드 호출하기\r\n",
    "class Person:\r\n",
    "    def greeting(self):\r\n",
    "        print('Hello')\r\n",
    "    \r\n",
    "    def hello(self):\r\n",
    "        self.greeting()"
   ],
   "outputs": [],
   "metadata": {}
  },
  {
   "cell_type": "code",
   "execution_count": 13,
   "source": [
    "james = Person()\r\n",
    "james.hello()"
   ],
   "outputs": [
    {
     "output_type": "stream",
     "name": "stdout",
     "text": [
      "Hello\n"
     ]
    }
   ],
   "metadata": {}
  },
  {
   "cell_type": "code",
   "execution_count": 15,
   "source": [
    "isinstance(james, Person)"
   ],
   "outputs": [
    {
     "output_type": "execute_result",
     "data": {
      "text/plain": [
       "True"
      ]
     },
     "metadata": {},
     "execution_count": 15
    }
   ],
   "metadata": {}
  },
  {
   "cell_type": "code",
   "execution_count": 16,
   "source": [
    "def factorial(n):\r\n",
    "    if not isinstance(n, int) or n < 0: # n이 int()클래스의 인스턴스가 아니거나, n이 0보다 작을 때\r\n",
    "        return None\r\n",
    "    if n == 0:\r\n",
    "        return 1\r\n",
    "    return n*factorial(n-1)"
   ],
   "outputs": [],
   "metadata": {}
  },
  {
   "cell_type": "code",
   "execution_count": 18,
   "source": [
    "factorial(3.14)"
   ],
   "outputs": [],
   "metadata": {}
  },
  {
   "cell_type": "code",
   "execution_count": 19,
   "source": [
    "factorial(6)"
   ],
   "outputs": [
    {
     "output_type": "execute_result",
     "data": {
      "text/plain": [
       "720"
      ]
     },
     "metadata": {},
     "execution_count": 19
    }
   ],
   "metadata": {}
  },
  {
   "cell_type": "markdown",
   "source": [
    "## 34.2 속성(Attribute)"
   ],
   "metadata": {}
  },
  {
   "cell_type": "code",
   "execution_count": 20,
   "source": [
    "class Person:\r\n",
    "    def __init__(self):\r\n",
    "        self.hello = '안녕하세요'           # hello 속성을 갖게 됨\r\n",
    "    def greeting(self):\r\n",
    "        print(self.hello)"
   ],
   "outputs": [],
   "metadata": {}
  },
  {
   "cell_type": "code",
   "execution_count": 22,
   "source": [
    "maria = Person()\r\n",
    "maria.greeting()"
   ],
   "outputs": [
    {
     "output_type": "stream",
     "name": "stdout",
     "text": [
      "안녕하세요\n"
     ]
    }
   ],
   "metadata": {}
  },
  {
   "cell_type": "code",
   "execution_count": 24,
   "source": [
    "maria.hello = 'How are you?'        # 속성을 변경할 수 있다\r\n",
    "maria.greeting()"
   ],
   "outputs": [
    {
     "output_type": "stream",
     "name": "stdout",
     "text": [
      "How are you?\n"
     ]
    }
   ],
   "metadata": {}
  },
  {
   "cell_type": "code",
   "execution_count": 25,
   "source": [
    "class Person:\r\n",
    "    def __init__(self, hello):      # Constructor\r\n",
    "        self.hello = hello\r\n",
    "\r\n",
    "    def greeting(self):\r\n",
    "        print(self.hello)"
   ],
   "outputs": [],
   "metadata": {}
  },
  {
   "cell_type": "code",
   "execution_count": 26,
   "source": [
    "james = Person('안녕하세요?')\r\n",
    "maria = Person('How are you?')"
   ],
   "outputs": [],
   "metadata": {}
  },
  {
   "cell_type": "code",
   "execution_count": 27,
   "source": [
    "james.greeting()\r\n",
    "maria.greeting()"
   ],
   "outputs": [
    {
     "output_type": "stream",
     "name": "stdout",
     "text": [
      "안녕하세요?\n",
      "How are you?\n"
     ]
    }
   ],
   "metadata": {}
  },
  {
   "cell_type": "code",
   "execution_count": 32,
   "source": [
    "class Person:\r\n",
    "    def __init__(self, name, age, addr):\r\n",
    "        self.hello = '안녕하세요?'\r\n",
    "        self.name = name\r\n",
    "        self.age = age\r\n",
    "        self.addr = addr\r\n",
    "    \r\n",
    "    def greeting(self):\r\n",
    "        print(f'{self.hello} 저는 {self.name}입니다.')\r\n",
    "    \r\n",
    "    # JAVA의 toString() method\r\n",
    "    def __str__(self):\r\n",
    "        return f'hello: {self.hello}, name: {self.name}, age: {self.age}, addr: {self.addr}'"
   ],
   "outputs": [],
   "metadata": {}
  },
  {
   "cell_type": "code",
   "execution_count": 33,
   "source": [
    "maria = Person('마리아', 23, '서울시 강남구 도곡동')\r\n",
    "maria.greeting()"
   ],
   "outputs": [
    {
     "output_type": "stream",
     "name": "stdout",
     "text": [
      "안녕하세요? 저는 마리아입니다.\n"
     ]
    }
   ],
   "metadata": {}
  },
  {
   "cell_type": "code",
   "execution_count": 35,
   "source": [
    "print(maria) # def __str__(self):가 있어서 출력될 수 있다"
   ],
   "outputs": [
    {
     "output_type": "stream",
     "name": "stdout",
     "text": [
      "hello: 안녕하세요?, name: 마리아, age: 23, addr: 서울시 강남구 도곡동\n"
     ]
    }
   ],
   "metadata": {}
  },
  {
   "cell_type": "markdown",
   "source": [
    "## 34.3 비공개 속성"
   ],
   "metadata": {}
  },
  {
   "cell_type": "code",
   "execution_count": 36,
   "source": [
    "maria.age = 30\r\n",
    "print(maria)"
   ],
   "outputs": [
    {
     "output_type": "stream",
     "name": "stdout",
     "text": [
      "hello: 안녕하세요?, name: 마리아, age: 30, addr: 서울시 강남구 도곡동\n"
     ]
    }
   ],
   "metadata": {}
  },
  {
   "cell_type": "code",
   "execution_count": 43,
   "source": [
    "class Person:\r\n",
    "    def __init__(self, name, age, addr, wallet):\r\n",
    "        self.name = name\r\n",
    "        self.age = age\r\n",
    "        self.addr = addr\r\n",
    "        self.__wallet = wallet # __wallet 속성은 비공개\r\n",
    "    \r\n",
    "    def greeting(self):\r\n",
    "        print(f'안녕하세요? 저는 {self.name}입니다.')\r\n",
    "\r\n",
    "    def pay(self, amount):\r\n",
    "        if self.__wallet - amount < 0:\r\n",
    "            print('지갑에 돈이 부족합니다.')\r\n",
    "            return \r\n",
    "        self.__wallet -= amount\r\n",
    "        print(f'지갑에 남은 돈은 {self.__wallet}입니다.')\r\n",
    "\r\n",
    "\r\n",
    "    # JAVA의  toString() method\r\n",
    "    def __str__(self):\r\n",
    "        return f'name: {self.name}, age: {self.age}, addr: {self.addr}, wallet: {self.__wallet}'"
   ],
   "outputs": [],
   "metadata": {}
  },
  {
   "cell_type": "code",
   "execution_count": 44,
   "source": [
    "james = Person('제임스', 27, '서울 강남구 역삼동', 10000)\r\n",
    "james.greeting()"
   ],
   "outputs": [
    {
     "output_type": "stream",
     "name": "stdout",
     "text": [
      "안녕하세요? 저는 제임스입니다.\n"
     ]
    }
   ],
   "metadata": {}
  },
  {
   "cell_type": "code",
   "execution_count": 46,
   "source": [
    "print(james)"
   ],
   "outputs": [
    {
     "output_type": "stream",
     "name": "stdout",
     "text": [
      "name: 제임스, age: 27, addr: 서울 강남구 역삼동, wallet: 10000\n"
     ]
    }
   ],
   "metadata": {}
  },
  {
   "cell_type": "code",
   "execution_count": 48,
   "source": [
    "# __wallet은 비공개 속성이므로 클래스 바깥에서는 변경할 수 없음\r\n",
    "james.__wallet = 1000000"
   ],
   "outputs": [],
   "metadata": {}
  },
  {
   "cell_type": "code",
   "execution_count": 50,
   "source": [
    "print(james)"
   ],
   "outputs": [
    {
     "output_type": "stream",
     "name": "stdout",
     "text": [
      "name: 제임스, age: 27, addr: 서울 강남구 역삼동, wallet: 10000\n"
     ]
    }
   ],
   "metadata": {}
  },
  {
   "cell_type": "code",
   "execution_count": 52,
   "source": [
    "james.pay(5000)"
   ],
   "outputs": [
    {
     "output_type": "stream",
     "name": "stdout",
     "text": [
      "지갑에 남은 돈은 0입니다.\n"
     ]
    }
   ],
   "metadata": {}
  },
  {
   "cell_type": "code",
   "execution_count": 54,
   "source": [
    "print(james)"
   ],
   "outputs": [
    {
     "output_type": "stream",
     "name": "stdout",
     "text": [
      "name: 제임스, age: 27, addr: 서울 강남구 역삼동, wallet: 0\n"
     ]
    }
   ],
   "metadata": {}
  },
  {
   "cell_type": "code",
   "execution_count": 56,
   "source": [
    "james.pay(10000)"
   ],
   "outputs": [
    {
     "output_type": "stream",
     "name": "stdout",
     "text": [
      "지갑에 돈이 부족합니다.\n"
     ]
    }
   ],
   "metadata": {}
  },
  {
   "cell_type": "markdown",
   "source": [
    "## Account 클래스 만들기\r\n",
    "### 속성\r\n",
    "- ano:문자열 6글자, '123456'\r\n",
    "- owner:문자열\r\n",
    "- ballance:잔액, 비공개 속성\r\n",
    "### Method\r\n",
    "- 생성자\r\n",
    "- deposit입금(amount)잔액이 1000만원이상이면 입금할 수 없음\r\n",
    "- withdraw인출(amount)잔액이 0원 미만이면 출금할 수 없음\r\n",
    "- 출력가능하게"
   ],
   "metadata": {}
  },
  {
   "cell_type": "code",
   "execution_count": 64,
   "source": [
    "class Account:\r\n",
    "    def __init__(self, ano, owner, balance):\r\n",
    "        self.ano = ano\r\n",
    "        self.owner = owner\r\n",
    "        self.__balance = balance # __ 속성은 비공개\r\n",
    "\r\n",
    "    def deposit(self, amount):\r\n",
    "        if amount + self.__balance >= 10000000:\r\n",
    "            print('잔액이 1000만원 이상이면 입금할 수 없습니다.')\r\n",
    "            return\r\n",
    "        self.__balance += amount\r\n",
    "        \r\n",
    "    def withdraw(self, amount):\r\n",
    "        if self.__balance - amount < 0:\r\n",
    "            print('잔액이 부족합니다.')\r\n",
    "            return\r\n",
    "        self.__balance -= amount\r\n",
    "    \r\n",
    "    def __str__(self):\r\n",
    "        return f'계좌번호: {self.ano}, 소유주: {self.owner}, 잔액: {self.__balance:9,d}'"
   ],
   "outputs": [],
   "metadata": {}
  },
  {
   "cell_type": "code",
   "execution_count": 74,
   "source": [
    "acc = Account('123456', '제임스', 100000)\r\n",
    "print(acc)"
   ],
   "outputs": [
    {
     "output_type": "stream",
     "name": "stdout",
     "text": [
      "계좌번호: 123456, 소유주: 제임스, 잔액:   100,000\n"
     ]
    }
   ],
   "metadata": {}
  },
  {
   "cell_type": "code",
   "execution_count": 75,
   "source": [
    "acc.deposit(3000000)\r\n",
    "print(acc)"
   ],
   "outputs": [
    {
     "output_type": "stream",
     "name": "stdout",
     "text": [
      "계좌번호: 123456, 소유주: 제임스, 잔액: 3,100,000\n"
     ]
    }
   ],
   "metadata": {}
  },
  {
   "cell_type": "code",
   "execution_count": 76,
   "source": [
    "acc.withdraw(2000000)\r\n",
    "print(acc)"
   ],
   "outputs": [
    {
     "output_type": "stream",
     "name": "stdout",
     "text": [
      "계좌번호: 123456, 소유주: 제임스, 잔액: 1,100,000\n"
     ]
    }
   ],
   "metadata": {}
  },
  {
   "cell_type": "code",
   "execution_count": 77,
   "source": [
    "acc.withdraw(2000000)\r\n",
    "print(acc)"
   ],
   "outputs": [
    {
     "output_type": "stream",
     "name": "stdout",
     "text": [
      "잔액이 부족합니다.\n",
      "계좌번호: 123456, 소유주: 제임스, 잔액: 1,100,000\n"
     ]
    }
   ],
   "metadata": {}
  },
  {
   "cell_type": "code",
   "execution_count": 73,
   "source": [
    "acc2 = Account('987432', '마리아', 3000000)\r\n",
    "print(acc2)"
   ],
   "outputs": [
    {
     "output_type": "stream",
     "name": "stdout",
     "text": [
      "계좌번호: 987432, 소유주: 마리아, 잔액: 3,000,000\n"
     ]
    }
   ],
   "metadata": {}
  },
  {
   "cell_type": "code",
   "execution_count": 78,
   "source": [
    "acc_list = [acc, acc2]"
   ],
   "outputs": [],
   "metadata": {}
  },
  {
   "cell_type": "code",
   "execution_count": 79,
   "source": [
    "for account in acc_list:\r\n",
    "    print(account)"
   ],
   "outputs": [
    {
     "output_type": "stream",
     "name": "stdout",
     "text": [
      "계좌번호: 123456, 소유주: 제임스, 잔액: 1,100,000\n",
      "계좌번호: 987432, 소유주: 마리아, 잔액: 3,000,000\n"
     ]
    }
   ],
   "metadata": {}
  },
  {
   "cell_type": "markdown",
   "source": [
    "### 1:계좌생성, 2:계좌목록, 3:입금, 4:출금, 5:종료"
   ],
   "metadata": {}
  },
  {
   "cell_type": "code",
   "execution_count": 96,
   "source": [
    "# 사용자로부터 필요한 정보를 입력 받아서 계좌를 생성함\r\n",
    "def create_account():\r\n",
    "    s = input('계좌번호 성명 금액 계좌>').split()\r\n",
    "    ano, owner = s[0], s[1]\r\n",
    "    amount = int(s[2])\r\n",
    "    acc = Account(ano, owner, amount)\r\n",
    "    acc_list.append(acc)"
   ],
   "outputs": [],
   "metadata": {}
  },
  {
   "cell_type": "code",
   "execution_count": 97,
   "source": [
    "# 사용자로부터 필요한 정보를 입력 받아서 계좌에 돈을 입금함\r\n",
    "def deposit_account():\r\n",
    "    s = input('계좌번호 금액> ').split()\r\n",
    "    ano, amount = s[0], int(s[1])\r\n",
    "    for acc in acc_list:\r\n",
    "        if acc.ano == ano:\r\n",
    "            acc.deposit(amount)\r\n",
    "            return"
   ],
   "outputs": [],
   "metadata": {}
  },
  {
   "cell_type": "code",
   "execution_count": 99,
   "source": [
    "def withdraw_account():\r\n",
    "    s = input('계좌번호 금액> ').split()\r\n",
    "    ano, amount = s[0], int(s[1])\r\n",
    "    for acc in acc_list:\r\n",
    "        if acc.ano == ano:\r\n",
    "            acc.withdraw(amount)\r\n",
    "            return\r\n",
    "    "
   ],
   "outputs": [],
   "metadata": {}
  },
  {
   "cell_type": "code",
   "execution_count": 100,
   "source": [
    "while True:\r\n",
    "    menu = int(input('1:계좌생성, 2:계좌목록, 3:입금, 4:출금, 5:종료> '))\r\n",
    "    if menu == 5:\r\n",
    "        break\r\n",
    "    if menu == 1:\r\n",
    "        create_account()\r\n",
    "    elif menu == 2:\r\n",
    "        for account in acc_list:\r\n",
    "            print(account)\r\n",
    "    elif menu == 3:\r\n",
    "        deposit_account()\r\n",
    "    elif menu == 4:\r\n",
    "        withdraw_account()\r\n",
    "    else:\r\n",
    "        print('잘못된 명령어입니다.')\r\n",
    "        "
   ],
   "outputs": [
    {
     "output_type": "stream",
     "name": "stdout",
     "text": [
      "계좌번호: 123456, 소유주: 제임스, 잔액: 1,100,000\n",
      "계좌번호: 987432, 소유주: 마리아, 잔액: 3,000,000\n",
      "계좌번호: 512453, 소유주: 도리돌, 잔액:   650,000\n",
      "계좌번호: 123456, 소유주: 제임스, 잔액: 1,100,000\n",
      "계좌번호: 987432, 소유주: 마리아, 잔액: 3,000,000\n",
      "계좌번호: 512453, 소유주: 도리돌, 잔액:    50,000\n"
     ]
    }
   ],
   "metadata": {}
  },
  {
   "cell_type": "code",
   "execution_count": null,
   "source": [],
   "outputs": [],
   "metadata": {}
  }
 ],
 "metadata": {
  "orig_nbformat": 4,
  "language_info": {
   "name": "python",
   "version": "3.8.10",
   "mimetype": "text/x-python",
   "codemirror_mode": {
    "name": "ipython",
    "version": 3
   },
   "pygments_lexer": "ipython3",
   "nbconvert_exporter": "python",
   "file_extension": ".py"
  },
  "kernelspec": {
   "name": "python3",
   "display_name": "Python 3.8.10 64-bit ('base': conda)"
  },
  "interpreter": {
   "hash": "3afaf00aff83f2e8eb9647e300ff648c4cd120434f7e4c9b48fc973ba4a47465"
  }
 },
 "nbformat": 4,
 "nbformat_minor": 2
}