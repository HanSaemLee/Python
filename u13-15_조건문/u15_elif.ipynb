{
 "cells": [
  {
   "cell_type": "code",
   "execution_count": 4,
   "source": [
    "x = 15\r\n",
    "if x == 10:\r\n",
    "    print('It is 10.')\r\n",
    "elif x == 20:\r\n",
    "    print('It is 20.')\r\n",
    "else:\r\n",
    "    print('10, 20이 아닙니다.')"
   ],
   "outputs": [
    {
     "output_type": "stream",
     "name": "stdout",
     "text": [
      "10, 20이 아닙니다.\n"
     ]
    }
   ],
   "metadata": {}
  },
  {
   "cell_type": "code",
   "execution_count": 3,
   "source": [
    "# 숫자 - 입력, 3의 배수면 fizz, 5의 배수면 buzz, 15의 배수면 fizzbuzz\r\n",
    "N = int(input())\r\n",
    "if N%15 == 0:\r\n",
    "    print('FizzBuzz')\r\n",
    "elif N%5 == 0:\r\n",
    "    print('Buzz')\r\n",
    "elif N%3 == 0:\r\n",
    "    print('Fizz')\r\n",
    "else:\r\n",
    "    print(N)"
   ],
   "outputs": [
    {
     "output_type": "stream",
     "name": "stdout",
     "text": [
      "buzz\n"
     ]
    }
   ],
   "metadata": {}
  },
  {
   "cell_type": "code",
   "execution_count": 6,
   "source": [
    "'Fizz' * False, 'Buzz' * True"
   ],
   "outputs": [
    {
     "output_type": "execute_result",
     "data": {
      "text/plain": [
       "('', 'Buzz')"
      ]
     },
     "metadata": {},
     "execution_count": 6
    }
   ],
   "metadata": {}
  },
  {
   "cell_type": "code",
   "execution_count": 11,
   "source": [
    "# 위의 내용 한 줄로 나타내기\r\n",
    "N = int(input())\r\n",
    "print('Fizz'*(N%3==0) + 'Buzz'*(N%5 == 0) or N)"
   ],
   "outputs": [
    {
     "output_type": "stream",
     "name": "stdout",
     "text": [
      "FizzBuzz\n"
     ]
    }
   ],
   "metadata": {}
  }
 ],
 "metadata": {
  "orig_nbformat": 4,
  "language_info": {
   "name": "python",
   "version": "3.8.10",
   "mimetype": "text/x-python",
   "codemirror_mode": {
    "name": "ipython",
    "version": 3
   },
   "pygments_lexer": "ipython3",
   "nbconvert_exporter": "python",
   "file_extension": ".py"
  },
  "kernelspec": {
   "name": "python3",
   "display_name": "Python 3.8.10 64-bit ('base': conda)"
  },
  "interpreter": {
   "hash": "3afaf00aff83f2e8eb9647e300ff648c4cd120434f7e4c9b48fc973ba4a47465"
  }
 },
 "nbformat": 4,
 "nbformat_minor": 2
}