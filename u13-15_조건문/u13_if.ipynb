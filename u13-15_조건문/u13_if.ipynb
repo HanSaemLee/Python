{
  "nbformat": 4,
  "nbformat_minor": 0,
  "metadata": {
    "colab": {
      "name": "u13_if.ipynb",
      "provenance": [],
      "collapsed_sections": []
    },
    "kernelspec": {
      "name": "python3",
      "display_name": "Python 3"
    },
    "language_info": {
      "name": "python"
    }
  },
  "cells": [
    {
      "cell_type": "markdown",
      "metadata": {
        "id": "1hnsilN-gvIN"
      },
      "source": [
        "# Unit 13. if 조건문"
      ]
    },
    {
      "cell_type": "code",
      "metadata": {
        "colab": {
          "base_uri": "https://localhost:8080/"
        },
        "id": "qxMDRiYjgDxS",
        "outputId": "eec00236-5f70-41cd-ca87-229ca513e2ed"
      },
      "source": [
        "x = 10\n",
        "if x == 10:\n",
        "  print('it is 10.')"
      ],
      "execution_count": 1,
      "outputs": [
        {
          "output_type": "stream",
          "text": [
            "it is 10.\n"
          ],
          "name": "stdout"
        }
      ]
    },
    {
      "cell_type": "code",
      "metadata": {
        "colab": {
          "base_uri": "https://localhost:8080/"
        },
        "id": "yf0GDSZehxlr",
        "outputId": "7d47d243-c594-42a0-c826-7da737fcdbc4"
      },
      "source": [
        "x = 9\n",
        "if x:\n",
        "  print('it is 10.')"
      ],
      "execution_count": 2,
      "outputs": [
        {
          "output_type": "stream",
          "text": [
            "it is 10.\n"
          ],
          "name": "stdout"
        }
      ]
    },
    {
      "cell_type": "markdown",
      "metadata": {
        "id": "UH3KBRMSi0G7"
      },
      "source": [
        "### 13.2 들여쓰기"
      ]
    },
    {
      "cell_type": "code",
      "metadata": {
        "colab": {
          "base_uri": "https://localhost:8080/"
        },
        "id": "6pdT51zziU8B",
        "outputId": "5af4a5e7-0630-4cbf-f160-0e49e53de97c"
      },
      "source": [
        "x = 10\n",
        "if x == 10:\n",
        "  print('x값은')\n",
        "  print('10입니다')\n",
        "print('언제나 출력됩니다')"
      ],
      "execution_count": 5,
      "outputs": [
        {
          "output_type": "stream",
          "text": [
            "x값은\n",
            "10입니다\n",
            "언제나 출력됩니다\n"
          ],
          "name": "stdout"
        }
      ]
    },
    {
      "cell_type": "markdown",
      "metadata": {
        "id": "AREpDlSikGOs"
      },
      "source": [
        "### 13.3 중첩 if 조건문"
      ]
    },
    {
      "cell_type": "code",
      "metadata": {
        "colab": {
          "base_uri": "https://localhost:8080/"
        },
        "id": "40kduk89jKJz",
        "outputId": "0f366b89-13d6-4ebc-bf6f-38a363ab0f3f"
      },
      "source": [
        "x = 15\n",
        "if x > 10:\n",
        "    print('10보다 큰 숫자입니다.')\n",
        "    if x == 15:\n",
        "      print('15 입니다.')\n",
        "    if x == 20:\n",
        "      print('20 입니다.')"
      ],
      "execution_count": 6,
      "outputs": [
        {
          "output_type": "stream",
          "text": [
            "10보다 큰 숫자입니다.\n",
            "15 입니다.\n"
          ],
          "name": "stdout"
        }
      ]
    },
    {
      "cell_type": "code",
      "metadata": {
        "colab": {
          "base_uri": "https://localhost:8080/"
        },
        "id": "kItsI1qLkbzr",
        "outputId": "068432c7-e706-4c67-c53d-b09fbca91c10"
      },
      "source": [
        "x = int(input('정수를 입력하세요>'))\n",
        "if x > 10:\n",
        "    print('10보다 큰 숫자입니다.')\n",
        "    if x == 15:\n",
        "      print('15 입니다.')\n",
        "    if x == 20:\n",
        "      print('20 입니다.')"
      ],
      "execution_count": 7,
      "outputs": [
        {
          "output_type": "stream",
          "text": [
            "정수를 입력하세요>16\n",
            "10보다 큰 숫자입니다.\n"
          ],
          "name": "stdout"
        }
      ]
    },
    {
      "cell_type": "code",
      "metadata": {
        "id": "Ehv5ZehnlKip"
      },
      "source": [
        ""
      ],
      "execution_count": null,
      "outputs": []
    }
  ]
}