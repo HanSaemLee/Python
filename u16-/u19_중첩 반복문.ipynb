{
 "cells": [
  {
   "cell_type": "markdown",
   "source": [
    "# Unit 19. 중첩 반복문"
   ],
   "metadata": {}
  },
  {
   "cell_type": "markdown",
   "source": [
    "## 19.1 중첩(Nested) for loop"
   ],
   "metadata": {}
  },
  {
   "cell_type": "code",
   "execution_count": 2,
   "source": [
    "for i in range(5):\r\n",
    "    for k in range(5):\r\n",
    "        print('*', end=(''))\r\n",
    "        if i == k:\r\n",
    "            break\r\n",
    "    print()"
   ],
   "outputs": [
    {
     "output_type": "stream",
     "name": "stdout",
     "text": [
      "*\n",
      "**\n",
      "***\n",
      "****\n",
      "*****\n"
     ]
    }
   ],
   "metadata": {}
  },
  {
   "cell_type": "code",
   "execution_count": 4,
   "source": [
    "for i in range(1, 6):\r\n",
    "    for k in range(10, 60, 10):\r\n",
    "        print(k, end=' ')\r\n",
    "    print(i)"
   ],
   "outputs": [
    {
     "output_type": "stream",
     "name": "stdout",
     "text": [
      "10 20 30 40 50 1\n",
      "10 20 30 40 50 2\n",
      "10 20 30 40 50 3\n",
      "10 20 30 40 50 4\n",
      "10 20 30 40 50 5\n"
     ]
    }
   ],
   "metadata": {}
  },
  {
   "cell_type": "code",
   "execution_count": 5,
   "source": [
    "for i in range(5):\r\n",
    "    for k in range(5):\r\n",
    "        print('*', end='')\r\n",
    "    print()"
   ],
   "outputs": [
    {
     "output_type": "stream",
     "name": "stdout",
     "text": [
      "*****\n",
      "*****\n",
      "*****\n",
      "*****\n",
      "*****\n"
     ]
    }
   ],
   "metadata": {}
  },
  {
   "cell_type": "code",
   "execution_count": 28,
   "source": [
    "# 내가 한 평행사변형\r\n",
    "for i in range(4):\r\n",
    "    for k in range(0, i+6):\r\n",
    "        if i >= k:\r\n",
    "            print(' ', end='')\r\n",
    "        else:\r\n",
    "            print('*', end='')\r\n",
    "    print()"
   ],
   "outputs": [
    {
     "output_type": "stream",
     "name": "stdout",
     "text": [
      " *****\n",
      "  *****\n",
      "   *****\n",
      "    *****\n"
     ]
    }
   ],
   "metadata": {}
  },
  {
   "cell_type": "code",
   "execution_count": 17,
   "source": [
    "# 강사님\r\n",
    "for i in range(4):\r\n",
    "    for _ in range(0, i):\r\n",
    "        print(' ', end='')\r\n",
    "    for _ in range(5):\r\n",
    "        print('*', end='')\r\n",
    "    print()"
   ],
   "outputs": [
    {
     "output_type": "stream",
     "name": "stdout",
     "text": [
      "*****\n",
      " *****\n",
      "  *****\n",
      "   *****\n"
     ]
    }
   ],
   "metadata": {}
  },
  {
   "cell_type": "code",
   "execution_count": 18,
   "source": [
    "# 강사님\r\n",
    "for i in range(4):\r\n",
    "    print(' '*i, '*'*5, sep='')"
   ],
   "outputs": [
    {
     "output_type": "stream",
     "name": "stdout",
     "text": [
      "*****\n",
      " *****\n",
      "  *****\n",
      "   *****\n"
     ]
    }
   ],
   "metadata": {}
  },
  {
   "cell_type": "code",
   "execution_count": 26,
   "source": [
    "# 내가 한 역삼각형\r\n",
    "for i in range(5):\r\n",
    "    for k in range(5-i):\r\n",
    "        print('*', end='')\r\n",
    "    print()\r\n"
   ],
   "outputs": [
    {
     "output_type": "stream",
     "name": "stdout",
     "text": [
      "*****\n",
      "****\n",
      "***\n",
      "**\n",
      "*\n"
     ]
    }
   ],
   "metadata": {}
  },
  {
   "cell_type": "code",
   "execution_count": 29,
   "source": [
    "# 강사님\r\n",
    "for i in range(5):\r\n",
    "    for _ in range(i):\r\n",
    "        print(' ', end='')\r\n",
    "    for _ in range(5-i):\r\n",
    "        print('*', end='')\r\n",
    "    print()"
   ],
   "outputs": [
    {
     "output_type": "stream",
     "name": "stdout",
     "text": [
      "*****\n",
      " ****\n",
      "  ***\n",
      "   **\n",
      "    *\n"
     ]
    }
   ],
   "metadata": {}
  },
  {
   "cell_type": "code",
   "execution_count": 37,
   "source": [
    "# 다이아몬드 그리기\r\n",
    "for i in range(5):\r\n",
    "    for _ in range(4-i):\r\n",
    "        print(' ', end='')\r\n",
    "    for _ in range(2*i+1):\r\n",
    "        print('*', end='')\r\n",
    "    print()\r\n",
    "for i in range(5):\r\n",
    "    for _ in range(i+1):\r\n",
    "        print(' ', end='')\r\n",
    "    for _ in range(7-2*i):\r\n",
    "        print('*', end='')\r\n",
    "    print()\r\n",
    "\r\n",
    "\r\n"
   ],
   "outputs": [
    {
     "output_type": "stream",
     "name": "stdout",
     "text": [
      "    *\n",
      "   ***\n",
      "  *****\n",
      " *******\n",
      "*********\n",
      " *******\n",
      "  *****\n",
      "   ***\n",
      "    *\n",
      "     \n"
     ]
    }
   ],
   "metadata": {}
  },
  {
   "cell_type": "code",
   "execution_count": null,
   "source": [],
   "outputs": [],
   "metadata": {}
  }
 ],
 "metadata": {
  "orig_nbformat": 4,
  "language_info": {
   "name": "python",
   "version": "3.8.10",
   "mimetype": "text/x-python",
   "codemirror_mode": {
    "name": "ipython",
    "version": 3
   },
   "pygments_lexer": "ipython3",
   "nbconvert_exporter": "python",
   "file_extension": ".py"
  },
  "kernelspec": {
   "name": "python3",
   "display_name": "Python 3.8.10 64-bit ('base': conda)"
  },
  "interpreter": {
   "hash": "3afaf00aff83f2e8eb9647e300ff648c4cd120434f7e4c9b48fc973ba4a47465"
  }
 },
 "nbformat": 4,
 "nbformat_minor": 2
}