{
 "cells": [
  {
   "cell_type": "markdown",
   "source": [
    "# Unit 25. 딕셔너리 응용"
   ],
   "metadata": {}
  },
  {
   "cell_type": "markdown",
   "source": [
    "## 25.1 딕셔너리 조작"
   ],
   "metadata": {}
  },
  {
   "cell_type": "code",
   "execution_count": 4,
   "source": [
    "x = {'a':10, 'b': 20, 'c':30, 'd':40}\r\n",
    "y = x.setdefault('e', 100)\r\n",
    "x, y"
   ],
   "outputs": [
    {
     "output_type": "execute_result",
     "data": {
      "text/plain": [
       "({'a': 10, 'b': 20, 'c': 30, 'd': 40, 'e': 100}, 100)"
      ]
     },
     "metadata": {},
     "execution_count": 4
    }
   ],
   "metadata": {}
  },
  {
   "cell_type": "code",
   "execution_count": 6,
   "source": [
    "x = {'a':10, 'b': 20, 'c':30, 'd':40}\r\n",
    "x.update(a=90) # 원래 있으면 value값 변경\r\n",
    "x"
   ],
   "outputs": [
    {
     "output_type": "execute_result",
     "data": {
      "text/plain": [
       "{'a': 90, 'b': 20, 'c': 30, 'd': 40}"
      ]
     },
     "metadata": {},
     "execution_count": 6
    }
   ],
   "metadata": {}
  },
  {
   "cell_type": "code",
   "execution_count": 7,
   "source": [
    "x.update(e=100) # 없으면 추가\r\n",
    "x"
   ],
   "outputs": [
    {
     "output_type": "execute_result",
     "data": {
      "text/plain": [
       "{'a': 90, 'b': 20, 'c': 30, 'd': 40, 'e': 100}"
      ]
     },
     "metadata": {},
     "execution_count": 7
    }
   ],
   "metadata": {}
  },
  {
   "cell_type": "code",
   "execution_count": 14,
   "source": [
    "x = {'a':10, 'b': 20, 'c':30, 'd':40}\r\n",
    "x['e']=50\r\n",
    "x"
   ],
   "outputs": [
    {
     "output_type": "execute_result",
     "data": {
      "text/plain": [
       "{'a': 10, 'b': 20, 'c': 30, 'd': 40, 'e': 50}"
      ]
     },
     "metadata": {},
     "execution_count": 14
    }
   ],
   "metadata": {}
  },
  {
   "cell_type": "code",
   "execution_count": 15,
   "source": [
    "x.pop('e'), x"
   ],
   "outputs": [
    {
     "output_type": "execute_result",
     "data": {
      "text/plain": [
       "(50, {'a': 10, 'b': 20, 'c': 30, 'd': 40})"
      ]
     },
     "metadata": {},
     "execution_count": 15
    }
   ],
   "metadata": {}
  },
  {
   "cell_type": "markdown",
   "source": [
    "### 키-값쌍 모두 가져오기"
   ],
   "metadata": {}
  },
  {
   "cell_type": "code",
   "execution_count": 17,
   "source": [
    "x = {'a':10, 'b': 20, 'c':30, 'd':40}\r\n",
    "x.items()"
   ],
   "outputs": [
    {
     "output_type": "execute_result",
     "data": {
      "text/plain": [
       "dict_items([('a', 10), ('b', 20), ('c', 30), ('d', 40)])"
      ]
     },
     "metadata": {},
     "execution_count": 17
    }
   ],
   "metadata": {}
  },
  {
   "cell_type": "code",
   "execution_count": 19,
   "source": [
    "x.keys()"
   ],
   "outputs": [
    {
     "output_type": "execute_result",
     "data": {
      "text/plain": [
       "dict_keys(['a', 'b', 'c', 'd'])"
      ]
     },
     "metadata": {},
     "execution_count": 19
    }
   ],
   "metadata": {}
  },
  {
   "cell_type": "code",
   "execution_count": 21,
   "source": [
    "x.values()"
   ],
   "outputs": [
    {
     "output_type": "execute_result",
     "data": {
      "text/plain": [
       "dict_values([10, 20, 30, 40])"
      ]
     },
     "metadata": {},
     "execution_count": 21
    }
   ],
   "metadata": {}
  },
  {
   "cell_type": "markdown",
   "source": [
    "### 리스트와 튜플로 딕셔너리 생성하기"
   ],
   "metadata": {}
  },
  {
   "cell_type": "code",
   "execution_count": 25,
   "source": [
    "dict(zip(x.values(),x.keys()))"
   ],
   "outputs": [
    {
     "output_type": "execute_result",
     "data": {
      "text/plain": [
       "{10: 'a', 20: 'b', 30: 'c', 40: 'd'}"
      ]
     },
     "metadata": {},
     "execution_count": 25
    }
   ],
   "metadata": {}
  },
  {
   "cell_type": "code",
   "execution_count": 27,
   "source": [
    "k = ('a', 'b', 'c', 'd')\r\n",
    "v = (10, 20, 30, 40)\r\n",
    "dict(zip(k, v))"
   ],
   "outputs": [
    {
     "output_type": "execute_result",
     "data": {
      "text/plain": [
       "{'a': 10, 'b': 20, 'c': 30, 'd': 40}"
      ]
     },
     "metadata": {},
     "execution_count": 27
    }
   ],
   "metadata": {}
  },
  {
   "cell_type": "markdown",
   "source": [
    "### 25.2 반복문"
   ],
   "metadata": {}
  },
  {
   "cell_type": "code",
   "execution_count": 29,
   "source": [
    "x = {'a':10, 'b': 20, 'c':30, 'd':40}\r\n",
    "for key, value in x.items():\r\n",
    "    print(f'{key}:{value}')"
   ],
   "outputs": [
    {
     "output_type": "stream",
     "name": "stdout",
     "text": [
      "a:10\n",
      "b:20\n",
      "c:30\n",
      "d:40\n"
     ]
    }
   ],
   "metadata": {}
  },
  {
   "cell_type": "code",
   "execution_count": 31,
   "source": [
    "for key in x.keys():\r\n",
    "    print(f'{key}:{x[key]}') # x[key]는 x[a], x[b], x[c], x[d]이다"
   ],
   "outputs": [
    {
     "output_type": "stream",
     "name": "stdout",
     "text": [
      "a:10\n",
      "b:20\n",
      "c:30\n",
      "d:40\n"
     ]
    }
   ],
   "metadata": {}
  },
  {
   "cell_type": "code",
   "execution_count": 32,
   "source": [
    "for i, (k, v) in enumerate(x.items()):\r\n",
    "    print(i, k, v)"
   ],
   "outputs": [
    {
     "output_type": "stream",
     "name": "stdout",
     "text": [
      "0 a 10\n",
      "1 b 20\n",
      "2 c 30\n",
      "3 d 40\n"
     ]
    }
   ],
   "metadata": {}
  },
  {
   "cell_type": "markdown",
   "source": [
    "### 25.3 딕셔너리 표현식"
   ],
   "metadata": {}
  },
  {
   "cell_type": "code",
   "execution_count": 35,
   "source": [
    "x = {'a':10, 'b': 20, 'c':30, 'd':40}\r\n",
    "x2 = {key: value*value for key, value in x.items()}\r\n",
    "x2"
   ],
   "outputs": [
    {
     "output_type": "execute_result",
     "data": {
      "text/plain": [
       "{'a': 100, 'b': 400, 'c': 900, 'd': 1600}"
      ]
     },
     "metadata": {},
     "execution_count": 35
    }
   ],
   "metadata": {}
  },
  {
   "cell_type": "code",
   "execution_count": 36,
   "source": [
    "x2 = {}\r\n",
    "for key, value in x.items():\r\n",
    "    x2[key] = value * value\r\n",
    "x2"
   ],
   "outputs": [
    {
     "output_type": "execute_result",
     "data": {
      "text/plain": [
       "{'a': 100, 'b': 400, 'c': 900, 'd': 1600}"
      ]
     },
     "metadata": {},
     "execution_count": 36
    }
   ],
   "metadata": {}
  },
  {
   "cell_type": "markdown",
   "source": [
    "### 25.4 딕셔너리 안에서 딕셔너리 사용"
   ],
   "metadata": {}
  },
  {
   "cell_type": "code",
   "execution_count": 39,
   "source": [
    "terrestrial_planet = {\r\n",
    "    'Mercury': {\r\n",
    "        'mean_radius': 2439.7,\r\n",
    "        'mass': 3.3022E+23,\r\n",
    "        'orbital_period': 87.969\r\n",
    "    },\r\n",
    "    'Venus': {\r\n",
    "        'mean_radius': 6051.8,\r\n",
    "        'mass': 4.8676E+24,\r\n",
    "        'orbital_period': 224.70069,\r\n",
    "    },\r\n",
    "    'Earth': {\r\n",
    "        'mean_radius': 6371.0,\r\n",
    "        'mass': 5.97219E+24,\r\n",
    "        'orbital_period': 365.25641,\r\n",
    "    },\r\n",
    "    'Mars': {\r\n",
    "        'mean_radius': 3389.5,\r\n",
    "        'mass': 6.4185E+23,\r\n",
    "        'orbital_period': 686.9600,\r\n",
    "    }\r\n",
    "}\r\n",
    "\r\n",
    "terrestrial_planet['Venus']['mean_radius']"
   ],
   "outputs": [
    {
     "output_type": "execute_result",
     "data": {
      "text/plain": [
       "6051.8"
      ]
     },
     "metadata": {},
     "execution_count": 39
    }
   ],
   "metadata": {}
  },
  {
   "cell_type": "code",
   "execution_count": 45,
   "source": [
    "result = {'results': {'common': {'countPerPage': '10',\r\n",
    "   'currentPage': '1',\r\n",
    "   'errorCode': '0',\r\n",
    "   'errorMessage': '정상',\r\n",
    "   'totalCount': '1'},\r\n",
    "  'juso': [{'admCd': '4215013700',\r\n",
    "    'bdKdcd': '0',\r\n",
    "    'bdMgtSn': '4215013700100940000017657',\r\n",
    "    'bdNm': '경포대',\r\n",
    "    'buldMnnm': '365',\r\n",
    "    'buldSlno': '0',\r\n",
    "    'detBdNmList': '',\r\n",
    "    'emdNm': '저동',\r\n",
    "    'emdNo': '03',\r\n",
    "    'engAddr': '365, Gyeongpo-ro, Gangneung-si, Gangwon-do',\r\n",
    "    'jibunAddr': '강원도 강릉시 저동 94 경포대',\r\n",
    "    'liNm': '',\r\n",
    "    'lnbrMnnm': '94',\r\n",
    "    'lnbrSlno': '0',\r\n",
    "    'mtYn': '0',\r\n",
    "    'rn': '경포로',\r\n",
    "    'rnMgtSn': '421503220002',\r\n",
    "    'roadAddr': '강원도 강릉시 경포로 365(저동)',\r\n",
    "    'roadAddrPart1': '강원도 강릉시 경포로 365',\r\n",
    "    'roadAddrPart2': '(저동)',\r\n",
    "    'sggNm': '강릉시',\r\n",
    "    'siNm': '강원도',\r\n",
    "    'udrtYn': '0',\r\n",
    "    'zipNo': '25461'}]}}\r\n",
    "\r\n",
    "result['results']['juso'][0]['roadAddr']"
   ],
   "outputs": [
    {
     "output_type": "execute_result",
     "data": {
      "text/plain": [
       "'강원도 강릉시 경포로 365(저동)'"
      ]
     },
     "metadata": {},
     "execution_count": 45
    }
   ],
   "metadata": {}
  },
  {
   "cell_type": "code",
   "execution_count": 50,
   "source": [
    "result = {'documents': [{'address': {'address_name': '강원 강릉시 저동 94',\r\n",
    "    'b_code': '4215013700',\r\n",
    "    'h_code': '4215066500',\r\n",
    "    'main_address_no': '94',\r\n",
    "    'mountain_yn': 'N',\r\n",
    "    'region_1depth_name': '강원',\r\n",
    "    'region_2depth_name': '강릉시',\r\n",
    "    'region_3depth_h_name': '경포동',\r\n",
    "    'region_3depth_name': '저동',\r\n",
    "    'sub_address_no': '',\r\n",
    "    'x': '128.896538649542',\r\n",
    "    'y': '37.7955687639648'},\r\n",
    "   'address_name': '강원 강릉시 경포로 365',\r\n",
    "   'address_type': 'ROAD_ADDR',\r\n",
    "   'road_address': {'address_name': '강원 강릉시 경포로 365',\r\n",
    "    'building_name': '경포대',\r\n",
    "    'main_building_no': '365',\r\n",
    "    'region_1depth_name': '강원',\r\n",
    "    'region_2depth_name': '강릉시',\r\n",
    "    'region_3depth_name': '저동',\r\n",
    "    'road_name': '경포로',\r\n",
    "    'sub_building_no': '',\r\n",
    "    'underground_yn': 'N',\r\n",
    "    'x': '128.896538649542',\r\n",
    "    'y': '37.7955687639648',\r\n",
    "    'zone_no': '25461'},\r\n",
    "   'x': '128.896538649542',\r\n",
    "   'y': '37.7955687639648'}],\r\n",
    " 'meta': {'is_end': True, 'pageable_count': 1, 'total_count': 1}}\r\n",
    "\r\n",
    "result['documents'][0]['x']"
   ],
   "outputs": [
    {
     "output_type": "execute_result",
     "data": {
      "text/plain": [
       "'128.896538649542'"
      ]
     },
     "metadata": {},
     "execution_count": 50
    }
   ],
   "metadata": {}
  },
  {
   "cell_type": "code",
   "execution_count": 51,
   "source": [
    "lat = float(result['documents'][0]['y'])\r\n",
    "lng = float(result['documents'][0]['x'])\r\n",
    "print(f'위도: {lat:.6f}, 경도:{lng:.6f}')"
   ],
   "outputs": [
    {
     "output_type": "stream",
     "name": "stdout",
     "text": [
      "위도: 37.795569, 경도:128.896539\n"
     ]
    }
   ],
   "metadata": {}
  }
 ],
 "metadata": {
  "orig_nbformat": 4,
  "language_info": {
   "name": "python",
   "version": "3.8.10",
   "mimetype": "text/x-python",
   "codemirror_mode": {
    "name": "ipython",
    "version": 3
   },
   "pygments_lexer": "ipython3",
   "nbconvert_exporter": "python",
   "file_extension": ".py"
  },
  "kernelspec": {
   "name": "python3",
   "display_name": "Python 3.8.10 64-bit ('base': conda)"
  },
  "interpreter": {
   "hash": "3afaf00aff83f2e8eb9647e300ff648c4cd120434f7e4c9b48fc973ba4a47465"
  }
 },
 "nbformat": 4,
 "nbformat_minor": 2
}